{
 "cells": [
  {
   "cell_type": "code",
   "execution_count": 1,
   "metadata": {},
   "outputs": [],
   "source": [
    "import numpy as np\n",
    "import pandas as pd\n",
    "import re\n"
   ]
  },
  {
   "cell_type": "code",
   "execution_count": 2,
   "metadata": {},
   "outputs": [
    {
     "data": {
      "text/html": [
       "<div>\n",
       "<style scoped>\n",
       "    .dataframe tbody tr th:only-of-type {\n",
       "        vertical-align: middle;\n",
       "    }\n",
       "\n",
       "    .dataframe tbody tr th {\n",
       "        vertical-align: top;\n",
       "    }\n",
       "\n",
       "    .dataframe thead th {\n",
       "        text-align: right;\n",
       "    }\n",
       "</style>\n",
       "<table border=\"1\" class=\"dataframe\">\n",
       "  <thead>\n",
       "    <tr style=\"text-align: right;\">\n",
       "      <th></th>\n",
       "      <th>SymptomList</th>\n",
       "    </tr>\n",
       "  </thead>\n",
       "  <tbody>\n",
       "    <tr>\n",
       "      <th>0</th>\n",
       "      <td>(honeycomb) opacities of cornea</td>\n",
       "    </tr>\n",
       "    <tr>\n",
       "      <th>1</th>\n",
       "      <td>‘burning’ discomfort in the lesions</td>\n",
       "    </tr>\n",
       "    <tr>\n",
       "      <th>2</th>\n",
       "      <td>‘Daughter yaws’ are multiple lesions that  dev...</td>\n",
       "    </tr>\n",
       "    <tr>\n",
       "      <th>3</th>\n",
       "      <td>“swan-neck deformity</td>\n",
       "    </tr>\n",
       "    <tr>\n",
       "      <th>4</th>\n",
       "      <td>“tumor plop,</td>\n",
       "    </tr>\n",
       "    <tr>\n",
       "      <th>...</th>\n",
       "      <td>...</td>\n",
       "    </tr>\n",
       "    <tr>\n",
       "      <th>6425</th>\n",
       "      <td>yaws(skin lesion)</td>\n",
       "    </tr>\n",
       "    <tr>\n",
       "      <th>6426</th>\n",
       "      <td>yellow crust in eyelids</td>\n",
       "    </tr>\n",
       "    <tr>\n",
       "      <th>6427</th>\n",
       "      <td>yellow discolouration of sclera</td>\n",
       "    </tr>\n",
       "    <tr>\n",
       "      <th>6428</th>\n",
       "      <td>Yellow skin discoloration</td>\n",
       "    </tr>\n",
       "    <tr>\n",
       "      <th>6429</th>\n",
       "      <td>yellow spot at the center of fovea</td>\n",
       "    </tr>\n",
       "  </tbody>\n",
       "</table>\n",
       "<p>6430 rows × 1 columns</p>\n",
       "</div>"
      ],
      "text/plain": [
       "                                            SymptomList\n",
       "0                       (honeycomb) opacities of cornea\n",
       "1                   ‘burning’ discomfort in the lesions\n",
       "2     ‘Daughter yaws’ are multiple lesions that  dev...\n",
       "3                                  “swan-neck deformity\n",
       "4                                          “tumor plop,\n",
       "...                                                 ...\n",
       "6425                                  yaws(skin lesion)\n",
       "6426                            yellow crust in eyelids\n",
       "6427                    yellow discolouration of sclera\n",
       "6428                          Yellow skin discoloration\n",
       "6429                 yellow spot at the center of fovea\n",
       "\n",
       "[6430 rows x 1 columns]"
      ]
     },
     "execution_count": 2,
     "metadata": {},
     "output_type": "execute_result"
    }
   ],
   "source": [
    "df = pd.read_csv('SymptomsListN.csv', encoding='cp1252')\n",
    "df.head(-20)\n"
   ]
  },
  {
   "cell_type": "code",
   "execution_count": 3,
   "metadata": {},
   "outputs": [
    {
     "data": {
      "text/html": [
       "<div>\n",
       "<style scoped>\n",
       "    .dataframe tbody tr th:only-of-type {\n",
       "        vertical-align: middle;\n",
       "    }\n",
       "\n",
       "    .dataframe tbody tr th {\n",
       "        vertical-align: top;\n",
       "    }\n",
       "\n",
       "    .dataframe thead th {\n",
       "        text-align: right;\n",
       "    }\n",
       "</style>\n",
       "<table border=\"1\" class=\"dataframe\">\n",
       "  <thead>\n",
       "    <tr style=\"text-align: right;\">\n",
       "      <th></th>\n",
       "      <th>SymptomList</th>\n",
       "    </tr>\n",
       "  </thead>\n",
       "  <tbody>\n",
       "    <tr>\n",
       "      <th>0</th>\n",
       "      <td>(honeycomb) opacities of cornea</td>\n",
       "    </tr>\n",
       "    <tr>\n",
       "      <th>1</th>\n",
       "      <td>‘burning’ discomfort in the lesions</td>\n",
       "    </tr>\n",
       "    <tr>\n",
       "      <th>2</th>\n",
       "      <td>‘daughter yaws’ are multiple lesions that  dev...</td>\n",
       "    </tr>\n",
       "    <tr>\n",
       "      <th>3</th>\n",
       "      <td>“swan-neck deformity</td>\n",
       "    </tr>\n",
       "    <tr>\n",
       "      <th>4</th>\n",
       "      <td>“tumor plop,</td>\n",
       "    </tr>\n",
       "    <tr>\n",
       "      <th>...</th>\n",
       "      <td>...</td>\n",
       "    </tr>\n",
       "    <tr>\n",
       "      <th>6445</th>\n",
       "      <td>yellowish white, hard looking, raised areas, v...</td>\n",
       "    </tr>\n",
       "    <tr>\n",
       "      <th>6446</th>\n",
       "      <td>yellowishred, heavily vascularized nodules nea...</td>\n",
       "    </tr>\n",
       "    <tr>\n",
       "      <th>6447</th>\n",
       "      <td>yellow-orange discoloration of skin, urine and...</td>\n",
       "    </tr>\n",
       "    <tr>\n",
       "      <th>6448</th>\n",
       "      <td>yellowwhite, round, solitary, raised nodule, a...</td>\n",
       "    </tr>\n",
       "    <tr>\n",
       "      <th>6449</th>\n",
       "      <td>z-line deformity</td>\n",
       "    </tr>\n",
       "  </tbody>\n",
       "</table>\n",
       "<p>6450 rows × 1 columns</p>\n",
       "</div>"
      ],
      "text/plain": [
       "                                            SymptomList\n",
       "0                       (honeycomb) opacities of cornea\n",
       "1                   ‘burning’ discomfort in the lesions\n",
       "2     ‘daughter yaws’ are multiple lesions that  dev...\n",
       "3                                  “swan-neck deformity\n",
       "4                                          “tumor plop,\n",
       "...                                                 ...\n",
       "6445  yellowish white, hard looking, raised areas, v...\n",
       "6446  yellowishred, heavily vascularized nodules nea...\n",
       "6447  yellow-orange discoloration of skin, urine and...\n",
       "6448  yellowwhite, round, solitary, raised nodule, a...\n",
       "6449                                   z-line deformity\n",
       "\n",
       "[6450 rows x 1 columns]"
      ]
     },
     "execution_count": 3,
     "metadata": {},
     "output_type": "execute_result"
    }
   ],
   "source": [
    "#change in lower case\n",
    "df['SymptomList']=df['SymptomList'].astype(str)\n",
    "df[\"SymptomList\"] = df['SymptomList'].apply(lambda x:x.lower())\n",
    "df\n"
   ]
  },
  {
   "cell_type": "code",
   "execution_count": 4,
   "metadata": {},
   "outputs": [],
   "source": [
    "#Removing html tags\n",
    "def remove_html_tags(text):\n",
    "    pattern = re.compile('[<,*?,>]')\n",
    "    return pattern.sub(r'', text)"
   ]
  },
  {
   "cell_type": "code",
   "execution_count": 5,
   "metadata": {},
   "outputs": [
    {
     "data": {
      "text/plain": [
       "0                         (honeycomb) opacities of cornea\n",
       "1                     ‘burning’ discomfort in the lesions\n",
       "2       ‘daughter yaws’ are multiple lesions that  dev...\n",
       "3                                    “swan-neck deformity\n",
       "4                                             “tumor plop\n",
       "                              ...                        \n",
       "6445    yellowish white hard looking raised areas vary...\n",
       "6446    yellowishred heavily vascularized nodules near...\n",
       "6447    yellow-orange discoloration of skin urine and ...\n",
       "6448    yellowwhite round solitary raised nodule about...\n",
       "6449                                     z-line deformity\n",
       "Name: SymptomList, Length: 6450, dtype: object"
      ]
     },
     "execution_count": 5,
     "metadata": {},
     "output_type": "execute_result"
    }
   ],
   "source": [
    "df['SymptomList'].apply(remove_html_tags)"
   ]
  },
  {
   "cell_type": "code",
   "execution_count": 6,
   "metadata": {},
   "outputs": [],
   "source": [
    "def remove_url(text):\n",
    "    pattern = re.compile('http?//S+|www.S+')\n",
    "    return pattern.sub(r'', text)"
   ]
  },
  {
   "cell_type": "code",
   "execution_count": 9,
   "metadata": {},
   "outputs": [
    {
     "data": {
      "text/plain": [
       "0                         (honeycomb) opacities of cornea\n",
       "1                     ‘burning’ discomfort in the lesions\n",
       "2       ‘daughter yaws’ are multiple lesions that  dev...\n",
       "3                                    “swan-neck deformity\n",
       "4                                            “tumor plop,\n",
       "                              ...                        \n",
       "6445    yellowish white, hard looking, raised areas, v...\n",
       "6446    yellowishred, heavily vascularized nodules nea...\n",
       "6447    yellow-orange discoloration of skin, urine and...\n",
       "6448    yellowwhite, round, solitary, raised nodule, a...\n",
       "6449                                     z-line deformity\n",
       "Name: SymptomList, Length: 6450, dtype: object"
      ]
     },
     "execution_count": 9,
     "metadata": {},
     "output_type": "execute_result"
    }
   ],
   "source": [
    "df['SymptomList'].apply(remove_url)"
   ]
  },
  {
   "cell_type": "code",
   "execution_count": 10,
   "metadata": {},
   "outputs": [],
   "source": [
    "import string, time\n",
    "exclude = string.punctuation\n",
    "def remove_punct(text):\n",
    "    for char in exclude:\n",
    "        text = text.replace(char, '')\n",
    "        return text.translate(str.maketrans(' ',' ',exclude))"
   ]
  },
  {
   "cell_type": "code",
   "execution_count": 11,
   "metadata": {},
   "outputs": [
    {
     "data": {
      "text/plain": [
       "0                           honeycomb opacities of cornea\n",
       "1                     ‘burning’ discomfort in the lesions\n",
       "2       ‘daughter yaws’ are multiple lesions that  dev...\n",
       "3                                     “swanneck deformity\n",
       "4                                             “tumor plop\n",
       "                              ...                        \n",
       "6445    yellowish white hard looking raised areas vary...\n",
       "6446    yellowishred heavily vascularized nodules near...\n",
       "6447    yelloworange discoloration of skin urine and o...\n",
       "6448    yellowwhite round solitary raised nodule about...\n",
       "6449                                      zline deformity\n",
       "Name: SymptomList, Length: 6450, dtype: object"
      ]
     },
     "execution_count": 11,
     "metadata": {},
     "output_type": "execute_result"
    }
   ],
   "source": [
    "df['SymptomList']=  df['SymptomList'].apply(remove_punct)\n",
    "df['SymptomList']"
   ]
  },
  {
   "cell_type": "code",
   "execution_count": 12,
   "metadata": {},
   "outputs": [
    {
     "name": "stdout",
     "output_type": "stream",
     "text": [
      "{1: 'MRI', 2: 'CT'}\n"
     ]
    }
   ],
   "source": [
    "# Add short/chat words in form of dictionary\n",
    "chat_words = {1 : 'MRI', 2: 'CT'}\n",
    "def chat_conversion(text):\n",
    "    new_text = []\n",
    "    for w in text.split():\n",
    "        if w.upper() in chat_words:\n",
    "            new_text.append(chat_words[w.upper()])\n",
    "        else:\n",
    "            new_text.append(w)\n",
    "    return ' '.join(new_text)\n",
    "\n",
    "test = chat_conversion('new MRi, cti, aki, mi, tp')\n",
    "print(chat_words)"
   ]
  },
  {
   "cell_type": "code",
   "execution_count": 13,
   "metadata": {},
   "outputs": [
    {
     "data": {
      "text/plain": [
       "0                           honeycomb opacities of cornea\n",
       "1                     ‘burning’ discomfort in the lesions\n",
       "2       ‘daughter yaws’ are multiple lesions that deve...\n",
       "3                                     “swanneck deformity\n",
       "4                                             “tumor plop\n",
       "                              ...                        \n",
       "6445    yellowish white hard looking raised areas vary...\n",
       "6446    yellowishred heavily vascularized nodules near...\n",
       "6447    yelloworange discoloration of skin urine and o...\n",
       "6448    yellowwhite round solitary raised nodule about...\n",
       "6449                                      zline deformity\n",
       "Name: SymptomList, Length: 6450, dtype: object"
      ]
     },
     "execution_count": 13,
     "metadata": {},
     "output_type": "execute_result"
    }
   ],
   "source": [
    "df['SymptomList'].apply(chat_conversion)"
   ]
  },
  {
   "cell_type": "code",
   "execution_count": 14,
   "metadata": {},
   "outputs": [
    {
     "data": {
      "text/plain": [
       "{1: 'MRI', 2: 'CT'}"
      ]
     },
     "execution_count": 14,
     "metadata": {},
     "output_type": "execute_result"
    }
   ],
   "source": [
    "chat_words"
   ]
  },
  {
   "cell_type": "code",
   "execution_count": 16,
   "metadata": {},
   "outputs": [
    {
     "data": {
      "text/plain": [
       "TextBlob(\"INCREASED FREQUENCY of MICTURATION SINCE 20 DAYS\")"
      ]
     },
     "execution_count": 16,
     "metadata": {},
     "output_type": "execute_result"
    }
   ],
   "source": [
    "#Spelling correction\n",
    "from textblob import TextBlob\n",
    "incorrect_text = 'INCREASED FREQUENCY OF MICTURATION SINCE 20 DAYS'\n",
    "textblob = TextBlob(incorrect_text)\n",
    "textblob.correct()\n"
   ]
  },
  {
   "cell_type": "code",
   "execution_count": 17,
   "metadata": {},
   "outputs": [],
   "source": [
    "import nltk \n",
    "sent = 'undocumented high grade fever with suspected abnormal activities in a developmentally normal child'\n",
    "tokens = nltk.word_tokenize(sent)"
   ]
  },
  {
   "cell_type": "code",
   "execution_count": 18,
   "metadata": {},
   "outputs": [
    {
     "data": {
      "text/plain": [
       "['right',\n",
       " 'side',\n",
       " 'abdominal',\n",
       " 'pain',\n",
       " 'associated',\n",
       " 'increased',\n",
       " 'eating',\n",
       " 'x',\n",
       " '1',\n",
       " 'months']"
      ]
     },
     "execution_count": 18,
     "metadata": {},
     "output_type": "execute_result"
    }
   ],
   "source": [
    "from nltk.corpus import stopwords\n",
    "sent = 'right side abdominal pain associated with increased after eating x 1 months'\n",
    "\n",
    "def stop_word_remover(sent):\n",
    "    tokens = nltk.word_tokenize(sent)\n",
    "    stop_words = stopwords.words('english')\n",
    "    \n",
    "    words_without_stop_words = []\n",
    "    for word in tokens:\n",
    "        if word in stop_words:\n",
    "            continue\n",
    "        else:\n",
    "            words_without_stop_words.append(word)\n",
    "    return words_without_stop_words\n",
    "\n",
    "\n",
    "    \n",
    "\n",
    "\n",
    "\n",
    "without_stop_word = stop_word_remover(sent)\n",
    "without_stop_word\n",
    "#stop_words\n",
    "#print(' '.join())"
   ]
  },
  {
   "cell_type": "code",
   "execution_count": 19,
   "metadata": {},
   "outputs": [
    {
     "data": {
      "text/plain": [
       "['right side abdominal pain associated with increased after eating x 1 months']"
      ]
     },
     "execution_count": 19,
     "metadata": {},
     "output_type": "execute_result"
    }
   ],
   "source": [
    "#Tokenizing\n",
    "import nltk\n",
    "from nltk.tokenize import word_tokenize, sent_tokenize\n",
    "word_tokenize(sent)\n",
    "sent_tokenize(sent)"
   ]
  },
  {
   "cell_type": "code",
   "execution_count": 20,
   "metadata": {},
   "outputs": [
    {
     "data": {
      "text/plain": [
       "['right',\n",
       " 'side',\n",
       " 'abdominal',\n",
       " 'pain',\n",
       " 'associated',\n",
       " 'with',\n",
       " 'increased',\n",
       " 'after',\n",
       " 'eating',\n",
       " 'x',\n",
       " '1',\n",
       " 'months']"
      ]
     },
     "execution_count": 20,
     "metadata": {},
     "output_type": "execute_result"
    }
   ],
   "source": [
    "word_tokenize(sent)"
   ]
  },
  {
   "cell_type": "code",
   "execution_count": 21,
   "metadata": {},
   "outputs": [
    {
     "name": "stdout",
     "output_type": "stream",
     "text": [
      "right —-> right\n",
      "side —-> side\n",
      "abdominal —-> abdominal\n",
      "pain —-> pain\n",
      "associated —-> associate\n",
      "with —-> with\n",
      "increased —-> increase\n",
      "after —-> after\n",
      "eating —-> eat\n",
      "x —-> x\n",
      "1 —-> 1\n",
      "months —-> months\n"
     ]
    }
   ],
   "source": [
    "#Lemmatization (to Root word)\n",
    "import nltk\n",
    "#nltk.download('wordnet')\n",
    "#nltk.download('omw-1.4')\n",
    "from nltk.stem import WordNetLemmatizer\n",
    "WordNetLemmatizer = WordNetLemmatizer()\n",
    "sent = 'right side abdominal pain associated with increased after eating x 1 months'\n",
    "tokens = nltk.word_tokenize(sent)\n",
    "for word in tokens:\n",
    "    print(word,'—->', WordNetLemmatizer.lemmatize(word, pos='v'))"
   ]
  },
  {
   "cell_type": "code",
   "execution_count": 22,
   "metadata": {},
   "outputs": [
    {
     "data": {
      "text/plain": [
       "[('right', 'JJ'),\n",
       " ('side', 'NN'),\n",
       " ('abdominal', 'JJ'),\n",
       " ('pain', 'NN'),\n",
       " ('associated', 'VBN'),\n",
       " ('with', 'IN'),\n",
       " ('increased', 'VBN'),\n",
       " ('after', 'IN'),\n",
       " ('eating', 'VBG'),\n",
       " ('x', 'JJ'),\n",
       " ('1', 'CD'),\n",
       " ('months', 'NNS')]"
      ]
     },
     "execution_count": 22,
     "metadata": {},
     "output_type": "execute_result"
    }
   ],
   "source": [
    "tagged = nltk.pos_tag(tokens)\n",
    "tagged"
   ]
  },
  {
   "cell_type": "code",
   "execution_count": 23,
   "metadata": {},
   "outputs": [
    {
     "name": "stderr",
     "output_type": "stream",
     "text": [
      "[nltk_data] Downloading package maxent_ne_chunker to\n",
      "[nltk_data]     C:\\Users\\Admin\\AppData\\Roaming\\nltk_data...\n",
      "[nltk_data]   Package maxent_ne_chunker is already up-to-date!\n",
      "[nltk_data] Downloading package words to\n",
      "[nltk_data]     C:\\Users\\Admin\\AppData\\Roaming\\nltk_data...\n",
      "[nltk_data]   Package words is already up-to-date!\n"
     ]
    },
    {
     "ename": "ModuleNotFoundError",
     "evalue": "No module named 'svgling'",
     "output_type": "error",
     "traceback": [
      "\u001b[1;31m---------------------------------------------------------------------------\u001b[0m",
      "\u001b[1;31mModuleNotFoundError\u001b[0m                       Traceback (most recent call last)",
      "File \u001b[1;32mc:\\ProgramData\\Anaconda3\\lib\\site-packages\\IPython\\core\\formatters.py:343\u001b[0m, in \u001b[0;36mBaseFormatter.__call__\u001b[1;34m(self, obj)\u001b[0m\n\u001b[0;32m    341\u001b[0m     method \u001b[39m=\u001b[39m get_real_method(obj, \u001b[39mself\u001b[39m\u001b[39m.\u001b[39mprint_method)\n\u001b[0;32m    342\u001b[0m     \u001b[39mif\u001b[39;00m method \u001b[39mis\u001b[39;00m \u001b[39mnot\u001b[39;00m \u001b[39mNone\u001b[39;00m:\n\u001b[1;32m--> 343\u001b[0m         \u001b[39mreturn\u001b[39;00m method()\n\u001b[0;32m    344\u001b[0m     \u001b[39mreturn\u001b[39;00m \u001b[39mNone\u001b[39;00m\n\u001b[0;32m    345\u001b[0m \u001b[39melse\u001b[39;00m:\n",
      "File \u001b[1;32mc:\\ProgramData\\Anaconda3\\lib\\site-packages\\nltk\\tree\\tree.py:783\u001b[0m, in \u001b[0;36mTree._repr_svg_\u001b[1;34m(self)\u001b[0m\n\u001b[0;32m    782\u001b[0m \u001b[39mdef\u001b[39;00m \u001b[39m_repr_svg_\u001b[39m(\u001b[39mself\u001b[39m):\n\u001b[1;32m--> 783\u001b[0m     \u001b[39mfrom\u001b[39;00m \u001b[39msvgling\u001b[39;00m \u001b[39mimport\u001b[39;00m draw_tree\n\u001b[0;32m    785\u001b[0m     \u001b[39mreturn\u001b[39;00m draw_tree(\u001b[39mself\u001b[39m)\u001b[39m.\u001b[39m_repr_svg_()\n",
      "\u001b[1;31mModuleNotFoundError\u001b[0m: No module named 'svgling'"
     ]
    },
    {
     "data": {
      "text/plain": [
       "Tree('S', [('right', 'JJ'), ('side', 'NN'), ('abdominal', 'JJ'), ('pain', 'NN'), ('associated', 'VBN'), ('with', 'IN'), ('increased', 'VBN'), ('after', 'IN'), ('eating', 'VBG'), ('x', 'JJ'), ('1', 'CD'), ('months', 'NNS')])"
      ]
     },
     "execution_count": 23,
     "metadata": {},
     "output_type": "execute_result"
    }
   ],
   "source": [
    "#import nltk\n",
    "nltk.download('maxent_ne_chunker')\n",
    "nltk.download('words')\n",
    "entities = nltk.chunk.ne_chunk(tagged)\n",
    "entities"
   ]
  },
  {
   "cell_type": "code",
   "execution_count": 24,
   "metadata": {},
   "outputs": [
    {
     "name": "stdout",
     "output_type": "stream",
     "text": [
      "<class 'list'>\n",
      "<class 'textblob.blob.TextBlob'>\n",
      "<class 'textblob.blob.TextBlob'>\n",
      "<class 'textblob.blob.TextBlob'>\n",
      "{'abdomen', 'abdominal_cavity', 'belly', 'stomach', 'venter'}\n",
      "Sentence: fever headache for 20 days\n",
      "Embedding: [ 0.09523411  0.06470332 -0.30507928 -0.2231611  -0.2347271   0.04536242\n",
      "  1.0894808   0.58303845  0.5594681   0.1355435   0.43327123 -0.17923024\n",
      " -0.03225068 -0.25941533 -0.17211775 -0.44776145 -0.18185028 -0.16525367\n",
      " -0.68620193 -0.30656338  0.54526937 -0.13851416  0.03838924 -0.07038049\n",
      " -0.39278632  0.17501178 -0.16452442  0.15071122 -0.00760711 -0.6226722\n",
      "  0.25688344  0.07360788  0.4133746   0.08934994  0.2080049   0.11153354\n",
      "  0.35777813  0.68070173 -0.2646817  -0.1237617  -0.31689304 -0.47309238\n",
      "  0.29375988  0.62149227  0.28507033  0.1832299   0.10133252  0.21880583\n",
      " -0.04922507  0.25708064 -0.28593236  0.0289024  -0.58608544  0.07013474\n",
      "  0.44660172  0.2146254   0.5933214  -0.22107434 -0.32148576  0.60399747\n",
      " -0.04429484 -0.27790517 -0.25415197  0.70351326  0.5145527  -0.06960458\n",
      " -0.46240503 -0.4749159  -0.60043514  0.13998544  0.10875013 -0.12309802\n",
      " -0.336688   -0.05849387  0.21451052  0.64498794 -0.11152843  0.5043681\n",
      "  0.10971966  0.30158934  0.07503447 -0.26775426 -0.3279625  -0.19647798\n",
      "  0.12837976  0.2781756   0.31291685  0.06496774  0.26003534  0.1068423\n",
      " -0.58549166  0.03263509 -0.3085934  -0.22796199  0.14550383  0.11218528\n",
      "  0.0371174  -0.72292453 -0.02572249  1.1337227  -0.2968523  -0.00600236\n",
      " -0.518889    0.15722182 -0.35232642 -0.19969223 -0.05334657  0.0372424\n",
      " -0.08734424 -0.4091805  -0.67787284 -0.91912717  0.19734924 -0.28986287\n",
      "  0.01191833 -0.3472232   0.5043919   0.02316287  0.5232434  -1.0785518\n",
      "  0.13226086  0.2724057  -0.13403597 -0.187949   -0.19778092 -0.64130414\n",
      "  0.50087816  0.16975224 -0.21569256  0.50222135  0.36313492 -0.3070364\n",
      "  0.09996276  0.30701128 -0.25812152 -0.34747353  0.31423774 -0.10274615\n",
      " -0.3604226   0.5124081   0.38177532  0.04070032  0.44251555 -0.09603749\n",
      "  0.48530692  0.46550545 -0.53575367 -0.14860743  0.38482958 -0.01540738\n",
      "  0.07125176 -0.47716838  0.6069051  -0.1835191  -0.4892363  -0.04307682\n",
      "  0.27655482  0.25991428  0.04140988  0.3183754  -0.5982315  -0.03434056\n",
      "  0.29435214 -0.26145363 -0.2371809   0.2972172   0.49910736 -0.09299475\n",
      " -0.01461443  0.33833092  0.21035115  0.19275792  0.42700306  0.15149459\n",
      "  0.16556582 -0.11990223  0.15440202  0.28590414  0.25494835  0.6133461\n",
      "  0.18756565 -0.3661009   0.41032076  0.00611927 -0.07684688  0.5445529\n",
      "  0.04469326  0.02680218 -0.18957803  0.07204998  0.23435739  0.07022168\n",
      " -1.0309756   0.30856204 -0.3338887  -0.6290826   0.2596649   0.24166505\n",
      "  0.2112021   0.13075468  0.42362413 -0.57410634 -0.05361471 -0.21544814\n",
      "  0.04707863 -0.40693513  0.14695759 -0.4733227  -0.42544866  0.30107287\n",
      " -0.32379475 -0.12466826  0.01654746 -0.17246744  0.10948058 -0.66330576\n",
      " -0.00782155 -0.18020897 -0.62601763  0.01790484  0.2429004  -0.03979107\n",
      "  0.19349703 -0.6008487  -0.07609223  0.29080182 -0.13534692  0.02802894\n",
      " -0.24253023  0.17416534  0.512102   -0.520075    0.67653704  0.33619955\n",
      " -0.24386707 -0.42066893 -0.04061945  0.1740478  -0.13212831 -0.35616824\n",
      " -0.10011585 -0.04606794 -0.21270847  0.07407124 -0.41434628 -0.16365471\n",
      " -0.27357012  0.09631906  0.2550891   0.5471179  -0.8530797   0.34951442\n",
      " -0.91749686  0.22882533 -0.50025475 -0.43280524 -0.01046613  0.38346455\n",
      " -0.3357912   0.373987    0.81339324 -0.446134    0.01232727  0.2491997\n",
      "  0.35595337  0.41757846  0.32071453  0.78255093 -0.8066305   0.02289482\n",
      " -0.38915342  0.07023346  0.5476576   0.01453327 -0.34673715 -0.3702355\n",
      " -0.22040324 -0.11891226 -0.40104455  0.31086585 -0.21746406 -0.6715226\n",
      " -0.71403086  0.11913785 -0.12697971 -0.21390776  0.45002818  0.5407092\n",
      "  0.00465779 -0.39183983 -0.12852764  0.29119855 -0.36888677 -0.1521816\n",
      "  0.73221415  0.6195787  -0.18269192  0.48112336 -0.24410005 -0.25259042\n",
      " -0.00501186 -0.22689486 -0.20577145  0.2457507  -0.07227787 -0.03502307\n",
      " -0.03626238  0.35605618  0.26421362 -0.31781897  0.00654223  0.04876212\n",
      "  0.67513597  0.17882177 -0.23389879  0.75985324  0.16962922  0.20972076\n",
      "  0.33539256  0.14829233 -0.07412841 -0.5538353   0.15140565  0.11370762\n",
      "  0.291724    0.09519179 -0.31189552 -1.1395099  -0.24536233  0.31145033\n",
      "  0.02495042  0.5807377  -0.05332153 -0.23591521  0.2148052   0.07977352\n",
      " -0.22642162 -0.30471236 -0.36106747 -0.02170677 -0.2418989   0.27926484\n",
      " -0.381066   -0.02767208 -0.08952186 -0.3434791  -0.03976896  0.1602633\n",
      " -0.66747254  0.2952548   0.07525249  0.37329772  0.6059754  -0.31432647\n",
      "  0.14226066  0.1387465   0.57242763  0.27020332  0.01129462  0.00636827\n",
      "  0.41778794  0.22338101 -0.3966338   0.591355   -0.50206244  0.512591\n",
      " -0.7207367   0.22921333 -0.0191414   0.03611793 -0.01697459  0.47531405\n",
      " -0.01848464 -0.30663317  0.07484265 -0.6008238  -0.3392075   0.02904656\n",
      " -0.33569437 -0.24439695  0.01129421 -0.0708672   0.88127613  0.13065012]\n",
      "\n",
      "Sentence: fever and hedache 1 day\n",
      "Embedding: [ 0.09523429  0.06470326 -0.3050794  -0.22316138 -0.23472719  0.04536211\n",
      "  1.0894808   0.58303845  0.5594678   0.13554367  0.43327147 -0.17923033\n",
      " -0.03225067 -0.2594151  -0.17211786 -0.4477612  -0.18185    -0.16525367\n",
      " -0.686202   -0.30656323  0.54526913 -0.13851392  0.038389   -0.07038064\n",
      " -0.39278635  0.17501195 -0.16452467  0.15071097 -0.00760711 -0.6226722\n",
      "  0.25688335  0.07360775  0.41337472  0.08934994  0.20800492  0.1115339\n",
      "  0.3577777   0.6807015  -0.26468176 -0.12376164 -0.31689304 -0.47309232\n",
      "  0.29376012  0.62149245  0.28507045  0.18322994  0.10133256  0.21880607\n",
      " -0.04922497  0.2570806  -0.28593233  0.02890242 -0.58608556  0.07013473\n",
      "  0.44660163  0.21462555  0.59332144 -0.22107443 -0.3214858   0.6039978\n",
      " -0.04429487 -0.27790523 -0.25415173  0.70351326  0.5145526  -0.06960438\n",
      " -0.46240497 -0.47491592 -0.6004349   0.13998541  0.10875037 -0.12309798\n",
      " -0.33668798 -0.05849384  0.21451071  0.64498806 -0.11152866  0.5043682\n",
      "  0.1097198   0.30158952  0.07503467 -0.26775438 -0.32796258 -0.19647798\n",
      "  0.12837958  0.2781753   0.31291667  0.06496793  0.26003516  0.10684235\n",
      " -0.58549184  0.03263538 -0.3085931  -0.22796234  0.14550355  0.11218532\n",
      "  0.03711744 -0.7229245  -0.02572234  1.1337224  -0.29685253 -0.0060026\n",
      " -0.51888883  0.15722165 -0.35232607 -0.19969225 -0.0533465   0.03724243\n",
      " -0.08734397 -0.4091804  -0.67787284 -0.9191271   0.19734904 -0.28986305\n",
      "  0.01191811 -0.347223    0.5043918   0.02316299  0.52324355 -1.0785515\n",
      "  0.13226107  0.27240556 -0.13403583 -0.18794909 -0.19778061 -0.6413044\n",
      "  0.50087786  0.16975203 -0.21569273  0.5022213   0.36313504 -0.30703616\n",
      "  0.09996308  0.30701137 -0.2581215  -0.3474738   0.31423768 -0.10274625\n",
      " -0.3604225   0.51240796  0.3817754   0.0407006   0.4425157  -0.09603764\n",
      "  0.48530683  0.46550536 -0.5357536  -0.14860766  0.38482994 -0.01540754\n",
      "  0.07125206 -0.47716823  0.60690486 -0.18351896 -0.4892365  -0.04307677\n",
      "  0.27655512  0.2599141   0.04140986  0.31837544 -0.5982315  -0.03434052\n",
      "  0.29435235 -0.26145345 -0.23718083  0.29721716  0.49910775 -0.09299469\n",
      " -0.01461503  0.3383308   0.21035127  0.19275793  0.42700297  0.15149426\n",
      "  0.16556594 -0.11990209  0.1544019   0.2859042   0.2549485   0.61334616\n",
      "  0.18756577 -0.3661007   0.41032082  0.00611935 -0.07684691  0.54455304\n",
      "  0.04469353  0.02680207 -0.18957803  0.07204996  0.23435727  0.07022182\n",
      " -1.0309757   0.30856195 -0.3338886  -0.62908256  0.25966528  0.241665\n",
      "  0.21120214  0.13075456  0.42362395 -0.5741065  -0.05361515 -0.21544845\n",
      "  0.04707857 -0.40693513  0.14695771 -0.47332326 -0.42544857  0.3010727\n",
      " -0.32379523 -0.12466808  0.01654744 -0.17246677  0.10948084 -0.66330606\n",
      " -0.0078217  -0.18020892 -0.6260175   0.01790495  0.24290028 -0.03979127\n",
      "  0.19349703 -0.60084903 -0.07609233  0.29080206 -0.13534713  0.02802886\n",
      " -0.2425303   0.17416497  0.51210207 -0.5200752   0.6765373   0.33619922\n",
      " -0.2438674  -0.42066917 -0.0406193   0.17404822 -0.1321285  -0.3561681\n",
      " -0.10011611 -0.04606787 -0.21270852  0.0740713  -0.41434616 -0.16365483\n",
      " -0.2735702   0.09631892  0.25508893  0.5471181  -0.85308     0.34951434\n",
      " -0.91749656  0.22882552 -0.5002548  -0.43280515 -0.01046591  0.3834643\n",
      " -0.3357914   0.3739872   0.813393   -0.4461341   0.01232733  0.24919975\n",
      "  0.3559535   0.41757852  0.3207146   0.7825511  -0.80663073  0.02289495\n",
      " -0.38915318  0.07023352  0.54765755  0.01453315 -0.34673697 -0.37023553\n",
      " -0.22040331 -0.11891234 -0.40104485  0.31086594 -0.21746401 -0.6715228\n",
      " -0.7140311   0.11913784 -0.12697983 -0.21390796  0.45002836  0.54070896\n",
      "  0.00465788 -0.39183992 -0.12852785  0.29119903 -0.36888677 -0.15218154\n",
      "  0.73221415  0.6195786  -0.18269226  0.4811232  -0.24410005 -0.25259033\n",
      " -0.00501188 -0.22689462 -0.20577137  0.24575062 -0.07227786 -0.03502277\n",
      " -0.0362624   0.35605636  0.26421377 -0.31781942  0.00654209  0.04876206\n",
      "  0.67513615  0.17882203 -0.23389873  0.7598534   0.16962908  0.20972109\n",
      "  0.33539265  0.14829223 -0.07412853 -0.5538353   0.15140563  0.11370774\n",
      "  0.29172385  0.09519213 -0.31189552 -1.1395099  -0.24536252  0.31145015\n",
      "  0.02495043  0.58073807 -0.05332156 -0.23591538  0.21480496  0.07977351\n",
      " -0.22642171 -0.30471206 -0.3610672  -0.02170687 -0.24189913  0.27926487\n",
      " -0.38106593 -0.02767219 -0.08952192 -0.34347895 -0.03976884  0.16026351\n",
      " -0.6674726   0.29525462  0.07525239  0.37329763  0.6059755  -0.3143265\n",
      "  0.14226069  0.13874662  0.57242787  0.27020332  0.01129465  0.0063682\n",
      "  0.4177876   0.2233814  -0.39663368  0.59135514 -0.5020626   0.512591\n",
      " -0.7207367   0.22921324 -0.01914124  0.03611812 -0.0169748   0.47531366\n",
      " -0.01848457 -0.30663323  0.0748428  -0.6008235  -0.33920747  0.02904649\n",
      " -0.3356943  -0.24439685  0.01129421 -0.07086698  0.8812764   0.13065019]\n",
      "\n",
      "Sentence: fever headach frm last 30 days\n",
      "Embedding: [ 0.09523411  0.06470332 -0.30507928 -0.2231611  -0.2347271   0.04536242\n",
      "  1.0894808   0.58303845  0.5594681   0.1355435   0.43327123 -0.17923024\n",
      " -0.03225068 -0.25941533 -0.17211775 -0.44776145 -0.18185028 -0.16525367\n",
      " -0.68620193 -0.30656338  0.54526937 -0.13851416  0.03838924 -0.07038049\n",
      " -0.39278632  0.17501178 -0.16452442  0.15071122 -0.00760711 -0.6226722\n",
      "  0.25688344  0.07360788  0.4133746   0.08934994  0.2080049   0.11153354\n",
      "  0.35777813  0.68070173 -0.2646817  -0.1237617  -0.31689304 -0.47309238\n",
      "  0.29375988  0.62149227  0.28507033  0.1832299   0.10133252  0.21880583\n",
      " -0.04922507  0.25708064 -0.28593236  0.0289024  -0.58608544  0.07013474\n",
      "  0.44660172  0.2146254   0.5933214  -0.22107434 -0.32148576  0.60399747\n",
      " -0.04429484 -0.27790517 -0.25415197  0.70351326  0.5145527  -0.06960458\n",
      " -0.46240503 -0.4749159  -0.60043514  0.13998544  0.10875013 -0.12309802\n",
      " -0.336688   -0.05849387  0.21451052  0.64498794 -0.11152843  0.5043681\n",
      "  0.10971966  0.30158934  0.07503447 -0.26775426 -0.3279625  -0.19647798\n",
      "  0.12837976  0.2781756   0.31291685  0.06496774  0.26003534  0.1068423\n",
      " -0.58549166  0.03263509 -0.3085934  -0.22796199  0.14550383  0.11218528\n",
      "  0.0371174  -0.72292453 -0.02572249  1.1337227  -0.2968523  -0.00600236\n",
      " -0.518889    0.15722182 -0.35232642 -0.19969223 -0.05334657  0.0372424\n",
      " -0.08734424 -0.4091805  -0.67787284 -0.91912717  0.19734924 -0.28986287\n",
      "  0.01191833 -0.3472232   0.5043919   0.02316287  0.5232434  -1.0785518\n",
      "  0.13226086  0.2724057  -0.13403597 -0.187949   -0.19778092 -0.64130414\n",
      "  0.50087816  0.16975224 -0.21569256  0.50222135  0.36313492 -0.3070364\n",
      "  0.09996276  0.30701128 -0.25812152 -0.34747353  0.31423774 -0.10274615\n",
      " -0.3604226   0.5124081   0.38177532  0.04070032  0.44251555 -0.09603749\n",
      "  0.48530692  0.46550545 -0.53575367 -0.14860743  0.38482958 -0.01540738\n",
      "  0.07125176 -0.47716838  0.6069051  -0.1835191  -0.4892363  -0.04307682\n",
      "  0.27655482  0.25991428  0.04140988  0.3183754  -0.5982315  -0.03434056\n",
      "  0.29435214 -0.26145363 -0.2371809   0.2972172   0.49910736 -0.09299475\n",
      " -0.01461443  0.33833092  0.21035115  0.19275792  0.42700306  0.15149459\n",
      "  0.16556582 -0.11990223  0.15440202  0.28590414  0.25494835  0.6133461\n",
      "  0.18756565 -0.3661009   0.41032076  0.00611927 -0.07684688  0.5445529\n",
      "  0.04469326  0.02680218 -0.18957803  0.07204998  0.23435739  0.07022168\n",
      " -1.0309756   0.30856204 -0.3338887  -0.6290826   0.2596649   0.24166505\n",
      "  0.2112021   0.13075468  0.42362413 -0.57410634 -0.05361471 -0.21544814\n",
      "  0.04707863 -0.40693513  0.14695759 -0.4733227  -0.42544866  0.30107287\n",
      " -0.32379475 -0.12466826  0.01654746 -0.17246744  0.10948058 -0.66330576\n",
      " -0.00782155 -0.18020897 -0.62601763  0.01790484  0.2429004  -0.03979107\n",
      "  0.19349703 -0.6008487  -0.07609223  0.29080182 -0.13534692  0.02802894\n",
      " -0.24253023  0.17416534  0.512102   -0.520075    0.67653704  0.33619955\n",
      " -0.24386707 -0.42066893 -0.04061945  0.1740478  -0.13212831 -0.35616824\n",
      " -0.10011585 -0.04606794 -0.21270847  0.07407124 -0.41434628 -0.16365471\n",
      " -0.27357012  0.09631906  0.2550891   0.5471179  -0.8530797   0.34951442\n",
      " -0.91749686  0.22882533 -0.50025475 -0.43280524 -0.01046613  0.38346455\n",
      " -0.3357912   0.373987    0.81339324 -0.446134    0.01232727  0.2491997\n",
      "  0.35595337  0.41757846  0.32071453  0.78255093 -0.8066305   0.02289482\n",
      " -0.38915342  0.07023346  0.5476576   0.01453327 -0.34673715 -0.3702355\n",
      " -0.22040324 -0.11891226 -0.40104455  0.31086585 -0.21746406 -0.6715226\n",
      " -0.71403086  0.11913785 -0.12697971 -0.21390776  0.45002818  0.5407092\n",
      "  0.00465779 -0.39183983 -0.12852764  0.29119855 -0.36888677 -0.1521816\n",
      "  0.73221415  0.6195787  -0.18269192  0.48112336 -0.24410005 -0.25259042\n",
      " -0.00501186 -0.22689486 -0.20577145  0.2457507  -0.07227787 -0.03502307\n",
      " -0.03626238  0.35605618  0.26421362 -0.31781897  0.00654223  0.04876212\n",
      "  0.67513597  0.17882177 -0.23389879  0.75985324  0.16962922  0.20972076\n",
      "  0.33539256  0.14829233 -0.07412841 -0.5538353   0.15140565  0.11370762\n",
      "  0.291724    0.09519179 -0.31189552 -1.1395099  -0.24536233  0.31145033\n",
      "  0.02495042  0.5807377  -0.05332153 -0.23591521  0.2148052   0.07977352\n",
      " -0.22642162 -0.30471236 -0.36106747 -0.02170677 -0.2418989   0.27926484\n",
      " -0.381066   -0.02767208 -0.08952186 -0.3434791  -0.03976896  0.1602633\n",
      " -0.66747254  0.2952548   0.07525249  0.37329772  0.6059754  -0.31432647\n",
      "  0.14226066  0.1387465   0.57242763  0.27020332  0.01129462  0.00636827\n",
      "  0.41778794  0.22338101 -0.3966338   0.591355   -0.50206244  0.512591\n",
      " -0.7207367   0.22921333 -0.0191414   0.03611793 -0.01697459  0.47531405\n",
      " -0.01848464 -0.30663317  0.07484265 -0.6008238  -0.3392075   0.02904656\n",
      " -0.33569437 -0.24439695  0.01129421 -0.0708672   0.88127613  0.13065012]\n",
      "\n"
     ]
    }
   ],
   "source": [
    "#Sentence \n",
    "\n",
    "import pandas as pd\n",
    "from sentence_transformers import SentenceTransformer\n",
    "\n",
    "# Download model\n",
    "model = SentenceTransformer('paraphrase-MiniLM-L6-v2')\n",
    "\n",
    "# The sentences we'd like to encode\n",
    "sentences = ['couigh 15 days',\n",
    "    'cough and cold 15 days',\n",
    "    'cough since 15 days']\n",
    "sentences = ['Fever Headache for 20 days',\n",
    "    'fever and hedache 1 Day',\n",
    "    'fever, headach frm Last 30 days']\n",
    "\n",
    "\n",
    "#lower the sentence \n",
    "#sentences = [sentence.lower() for sentence in sentences]\n",
    "df = pd.DataFrame(sentences, columns =['SymptomList'])\n",
    "df['SymptomList'] = df['SymptomList'].astype(str)\n",
    "df['SymptomList'] = df['SymptomList'].apply(lambda x:x.lower())\n",
    "\n",
    "\n",
    "#remove html tags\n",
    "df['SymptomList'] = df['SymptomList'].apply(remove_html_tags)\n",
    "\n",
    "#remove url\n",
    "df['SymptomList'] = df['SymptomList'].apply(remove_url)\n",
    "\n",
    "#remove punc\n",
    "df['SymptomList'] = df['SymptomList'].apply(remove_punct)\n",
    "\n",
    "\n",
    "#converting dataframe to list\n",
    "sentences = df['SymptomList'].to_list()\n",
    "\n",
    "\n",
    "\n",
    "\n",
    "\n",
    "#correction of word/sentence\n",
    "#Sectence Correction\n",
    "sentences = sentences\n",
    "#sentences = [sentence.lower() for sentence in sentences]\n",
    "sentences = [ TextBlob(sentence) for sentence in sentences]\n",
    "result = [ sentence.correct() for sentence in sentences]            \n",
    "#sentences = TextBlob(sentences)\n",
    "#result = sentences.correct()\n",
    "\n",
    "print(type(result))\n",
    "\n",
    "#short matching \n",
    "\n",
    "\n",
    "\n",
    "\n",
    "#Rule based matching\n",
    "\n",
    "\n",
    "\n",
    "#token & removing stop words\n",
    "without_stop_word = []\n",
    "#stp = [ stop_word_remover(sentence) for sentence in result]\n",
    "for sentence in result:\n",
    "    print(type(sentence))\n",
    "    #stp = stop_word_remover(sentence)\n",
    "    #without_stop_word.append(stp)\n",
    "    #without_stop_word.append(stop_word_remover(sentence))\n",
    "\n",
    "\n",
    "#Synonym checking\n",
    "from nltk.corpus import wordnet\n",
    "\n",
    "synonyms = []\n",
    "\n",
    "for syn in wordnet.synsets(\"abdomen\"):\n",
    "    for i in syn.lemmas():\n",
    "        synonyms.append(i.name())\n",
    "\n",
    "print(set(synonyms))\n",
    "\n",
    "#print(stp)\n",
    "# Get embeddings of sentences\n",
    "embeddings = model.encode(result)\n",
    "\n",
    "# Print the embeddings\n",
    "for sentence, embedding in zip(sentences, embeddings):\n",
    "    print(\"Sentence:\", sentence)\n",
    "    print(\"Embedding:\", embedding)\n",
    "    print(\"\")"
   ]
  },
  {
   "cell_type": "code",
   "execution_count": null,
   "metadata": {},
   "outputs": [],
   "source": []
  },
  {
   "cell_type": "code",
   "execution_count": 30,
   "metadata": {},
   "outputs": [
    {
     "name": "stdout",
     "output_type": "stream",
     "text": [
      "comparing of 1st with 2nd :-> 0.9642\n",
      "comparing of 1st with 3rd :-> 0.9861\n",
      "comparing of 3rd with 2nd :-> 0.9855\n"
     ]
    }
   ],
   "source": [
    "#Semantic Textual Similarity\n",
    "from sentence_transformers import SentenceTransformer, util\n",
    "\n",
    "# Download model\n",
    "model = SentenceTransformer('paraphrase-MiniLM-L6-v2')\n",
    "\n",
    "# The sentences we'd like to compute similarity about\n",
    "sentences = ['Fracture Of the Olecranon',\n",
    "    'Fracture Olecranon',\n",
    "    'fracture of olecranon']\n",
    "# sentences = ['cough 15 days',\n",
    "#     'cough and cold 15 days',\n",
    "#     'cough since 15 days']\n",
    "\n",
    "# Get embeddings of sentences\n",
    "embeddings = model.encode(sentences)\n",
    "\n",
    "# Compute similarities\n",
    "sim = util.cos_sim(embeddings[0], embeddings[1])\n",
    "print(\"comparing of 1st with 2nd :->\",\"{0:.4f}\".format(sim.tolist()[0][0])) \n",
    "sim = util.cos_sim(embeddings[0], embeddings[2])\n",
    "print(\"comparing of 1st with 3rd :->\",\"{0:.4f}\".format(sim.tolist()[0][0])) \n",
    "sim = util.cos_sim(embeddings[-1], embeddings[1])\n",
    "print(\"comparing of 3rd with 2nd :->\",\"{0:.4f}\".format(sim.tolist()[0][0])) "
   ]
  },
  {
   "cell_type": "code",
   "execution_count": 153,
   "metadata": {},
   "outputs": [],
   "source": [
    "#Lemmatization (to Root word)\n",
    "import nltk\n",
    "#nltk.download('wordnet')\n",
    "#nltk.download('omw-1.4')\n",
    "from nltk.stem import WordNetLemmatizer\n",
    "WordNetLemmatizer = WordNetLemmatizer()"
   ]
  },
  {
   "cell_type": "code",
   "execution_count": 154,
   "metadata": {},
   "outputs": [
    {
     "data": {
      "text/html": [
       "<div>\n",
       "<style scoped>\n",
       "    .dataframe tbody tr th:only-of-type {\n",
       "        vertical-align: middle;\n",
       "    }\n",
       "\n",
       "    .dataframe tbody tr th {\n",
       "        vertical-align: top;\n",
       "    }\n",
       "\n",
       "    .dataframe thead th {\n",
       "        text-align: right;\n",
       "    }\n",
       "</style>\n",
       "<table border=\"1\" class=\"dataframe\">\n",
       "  <thead>\n",
       "    <tr style=\"text-align: right;\">\n",
       "      <th></th>\n",
       "      <th>Disease Name</th>\n",
       "    </tr>\n",
       "  </thead>\n",
       "  <tbody>\n",
       "    <tr>\n",
       "      <th>0</th>\n",
       "      <td>11ß-Hydroxylase deficiency</td>\n",
       "    </tr>\n",
       "    <tr>\n",
       "      <th>1</th>\n",
       "      <td>17a Hydroxylase/17,20- lyase deficiency</td>\n",
       "    </tr>\n",
       "    <tr>\n",
       "      <th>2</th>\n",
       "      <td>17-hydroxycorticosteroid</td>\n",
       "    </tr>\n",
       "    <tr>\n",
       "      <th>3</th>\n",
       "      <td>2,4 Dienoyl-CoA Reductase deficiency</td>\n",
       "    </tr>\n",
       "    <tr>\n",
       "      <th>4</th>\n",
       "      <td>2,4-Dienoyl-CoA reductase</td>\n",
       "    </tr>\n",
       "    <tr>\n",
       "      <th>...</th>\n",
       "      <td>...</td>\n",
       "    </tr>\n",
       "    <tr>\n",
       "      <th>3150</th>\n",
       "      <td>White sponge naevus</td>\n",
       "    </tr>\n",
       "    <tr>\n",
       "      <th>3151</th>\n",
       "      <td>WHOOPING COUGH</td>\n",
       "    </tr>\n",
       "    <tr>\n",
       "      <th>3152</th>\n",
       "      <td>Williams syndrome</td>\n",
       "    </tr>\n",
       "    <tr>\n",
       "      <th>3153</th>\n",
       "      <td>WILMS TUMOR</td>\n",
       "    </tr>\n",
       "    <tr>\n",
       "      <th>3154</th>\n",
       "      <td>Wilms' tumour</td>\n",
       "    </tr>\n",
       "  </tbody>\n",
       "</table>\n",
       "<p>3155 rows × 1 columns</p>\n",
       "</div>"
      ],
      "text/plain": [
       "                                 Disease Name\n",
       "0                  11ß-Hydroxylase deficiency\n",
       "1     17a Hydroxylase/17,20- lyase deficiency\n",
       "2                    17-hydroxycorticosteroid\n",
       "3        2,4 Dienoyl-CoA Reductase deficiency\n",
       "4                   2,4-Dienoyl-CoA reductase\n",
       "...                                       ...\n",
       "3150                      White sponge naevus\n",
       "3151                           WHOOPING COUGH\n",
       "3152                        Williams syndrome\n",
       "3153                              WILMS TUMOR\n",
       "3154                            Wilms' tumour\n",
       "\n",
       "[3155 rows x 1 columns]"
      ]
     },
     "execution_count": 154,
     "metadata": {},
     "output_type": "execute_result"
    }
   ],
   "source": [
    "#Disease List pre-process\n",
    "df = pd.read_csv('disease_list.csv', encoding='cp1252')\n",
    "df.head(-20)"
   ]
  },
  {
   "cell_type": "code",
   "execution_count": 155,
   "metadata": {},
   "outputs": [
    {
     "data": {
      "text/html": [
       "<div>\n",
       "<style scoped>\n",
       "    .dataframe tbody tr th:only-of-type {\n",
       "        vertical-align: middle;\n",
       "    }\n",
       "\n",
       "    .dataframe tbody tr th {\n",
       "        vertical-align: top;\n",
       "    }\n",
       "\n",
       "    .dataframe thead th {\n",
       "        text-align: right;\n",
       "    }\n",
       "</style>\n",
       "<table border=\"1\" class=\"dataframe\">\n",
       "  <thead>\n",
       "    <tr style=\"text-align: right;\">\n",
       "      <th></th>\n",
       "      <th>Disease Name</th>\n",
       "    </tr>\n",
       "  </thead>\n",
       "  <tbody>\n",
       "    <tr>\n",
       "      <th>0</th>\n",
       "      <td>11ß-hydroxylase deficiency</td>\n",
       "    </tr>\n",
       "    <tr>\n",
       "      <th>1</th>\n",
       "      <td>17a hydroxylase/17,20- lyase deficiency</td>\n",
       "    </tr>\n",
       "    <tr>\n",
       "      <th>2</th>\n",
       "      <td>17-hydroxycorticosteroid</td>\n",
       "    </tr>\n",
       "    <tr>\n",
       "      <th>3</th>\n",
       "      <td>2,4 dienoyl-coa reductase deficiency</td>\n",
       "    </tr>\n",
       "    <tr>\n",
       "      <th>4</th>\n",
       "      <td>2,4-dienoyl-coa reductase</td>\n",
       "    </tr>\n",
       "    <tr>\n",
       "      <th>...</th>\n",
       "      <td>...</td>\n",
       "    </tr>\n",
       "    <tr>\n",
       "      <th>3170</th>\n",
       "      <td>yolk sac tumour: polyvesicular vitelline tumou...</td>\n",
       "    </tr>\n",
       "    <tr>\n",
       "      <th>3171</th>\n",
       "      <td>zellweger syndrome</td>\n",
       "    </tr>\n",
       "    <tr>\n",
       "      <th>3172</th>\n",
       "      <td>zollinger- ellison syndrome</td>\n",
       "    </tr>\n",
       "    <tr>\n",
       "      <th>3173</th>\n",
       "      <td>zoon’s vulvitis</td>\n",
       "    </tr>\n",
       "    <tr>\n",
       "      <th>3174</th>\n",
       "      <td>zoster</td>\n",
       "    </tr>\n",
       "  </tbody>\n",
       "</table>\n",
       "<p>3175 rows × 1 columns</p>\n",
       "</div>"
      ],
      "text/plain": [
       "                                           Disease Name\n",
       "0                            11ß-hydroxylase deficiency\n",
       "1               17a hydroxylase/17,20- lyase deficiency\n",
       "2                              17-hydroxycorticosteroid\n",
       "3                  2,4 dienoyl-coa reductase deficiency\n",
       "4                             2,4-dienoyl-coa reductase\n",
       "...                                                 ...\n",
       "3170  yolk sac tumour: polyvesicular vitelline tumou...\n",
       "3171                                 zellweger syndrome\n",
       "3172                        zollinger- ellison syndrome\n",
       "3173                                    zoon’s vulvitis\n",
       "3174                                             zoster\n",
       "\n",
       "[3175 rows x 1 columns]"
      ]
     },
     "execution_count": 155,
     "metadata": {},
     "output_type": "execute_result"
    }
   ],
   "source": [
    "#change in lower case\n",
    "df['Disease Name']=df['Disease Name'].astype(str)\n",
    "df[\"Disease Name\"] = df['Disease Name'].apply(lambda x:x.lower())\n",
    "df"
   ]
  },
  {
   "cell_type": "markdown",
   "metadata": {},
   "source": [
    "#Disease and Organ finder"
   ]
  },
  {
   "cell_type": "code",
   "execution_count": 12,
   "metadata": {},
   "outputs": [
    {
     "ename": "NameError",
     "evalue": "name 'remove_url' is not defined",
     "output_type": "error",
     "traceback": [
      "\u001b[1;31m---------------------------------------------------------------------------\u001b[0m",
      "\u001b[1;31mNameError\u001b[0m                                 Traceback (most recent call last)",
      "\u001b[1;32md:\\asad\\nlp-engine-for-symptoms\\pre-processing.ipynb Cell 28\u001b[0m in \u001b[0;36m<cell line: 6>\u001b[1;34m()\u001b[0m\n\u001b[0;32m      <a href='vscode-notebook-cell:/d%3A/asad/nlp-engine-for-symptoms/pre-processing.ipynb#ch0000027?line=3'>4</a>\u001b[0m symptoms_plus_disease \u001b[39m=\u001b[39m symptoms_plus_disease\u001b[39m.\u001b[39mlower()\n\u001b[0;32m      <a href='vscode-notebook-cell:/d%3A/asad/nlp-engine-for-symptoms/pre-processing.ipynb#ch0000027?line=4'>5</a>\u001b[0m symptoms_plus_disease \u001b[39m=\u001b[39m remove_html_tags(symptoms_plus_disease)\n\u001b[1;32m----> <a href='vscode-notebook-cell:/d%3A/asad/nlp-engine-for-symptoms/pre-processing.ipynb#ch0000027?line=5'>6</a>\u001b[0m symptoms_plus_disease \u001b[39m=\u001b[39m remove_url(symptoms_plus_disease)\n\u001b[0;32m      <a href='vscode-notebook-cell:/d%3A/asad/nlp-engine-for-symptoms/pre-processing.ipynb#ch0000027?line=6'>7</a>\u001b[0m symptoms_plus_disease \u001b[39m=\u001b[39m remove_punct(symptoms_plus_disease)\n\u001b[0;32m      <a href='vscode-notebook-cell:/d%3A/asad/nlp-engine-for-symptoms/pre-processing.ipynb#ch0000027?line=7'>8</a>\u001b[0m symptoms_plus_disease \u001b[39m=\u001b[39m stop_word_remover(\u001b[39mstr\u001b[39m(symptoms_plus_disease))\n",
      "\u001b[1;31mNameError\u001b[0m: name 'remove_url' is not defined"
     ]
    }
   ],
   "source": [
    "#symptoms_plus_disease = 'right side abdominal hernias pain associated with increased after eating x 1 months and fever'\n",
    "#symptoms_plus_disease = 'complaints of itchy lesions over the legs and below the right buttock, hand, leg, on abdomen'\n",
    "symptoms_plus_disease = 'itching both eye since 1 yr'\n",
    "symptoms_plus_disease = symptoms_plus_disease.lower()\n",
    "symptoms_plus_disease = remove_html_tags(symptoms_plus_disease)\n",
    "symptoms_plus_disease = remove_url(symptoms_plus_disease)\n",
    "symptoms_plus_disease = remove_punct(symptoms_plus_disease)\n",
    "symptoms_plus_disease = stop_word_remover(str(symptoms_plus_disease))\n",
    "dr_transcription = []\n",
    "for word in symptoms_plus_disease:\n",
    "    lem_word = WordNetLemmatizer.lemmatize(word, pos='v')\n",
    "    dr_transcription.append(lem_word)\n",
    "#symptoms_plus_disease_wtokenize = word_tokenize(symptoms_plus_disease)\n",
    "#symptoms_plus_disease_stokenize = sent_tokenize(symptoms_plus_disease)\n",
    "print(dr_transcription)\n",
    "#symptoms_plus_disease, "
   ]
  },
  {
   "cell_type": "code",
   "execution_count": 200,
   "metadata": {},
   "outputs": [
    {
     "name": "stdout",
     "output_type": "stream",
     "text": [
      "['itch', 'eye', 'since', '1', 'yr']\n",
      "Disease :-> itch\n"
     ]
    }
   ],
   "source": [
    "#checking for disease\n",
    "print(dr_transcription)\n",
    "def checking_disease(dr_transcription):\n",
    "    dr_transcription = dr_transcription\n",
    "    embeddings = model.encode(dr_transcription)\n",
    "\n",
    "    # Compute similarities\n",
    "    sim = util.cos_sim(embeddings[0], embeddings[1])\n",
    "    #print(\"comparing of 1st with 2nd :->\",\"{0:.4f}\".format(sim.tolist()[0][0])) \n",
    "    #print(dr_transcription)\n",
    "    #tokens = nltk.word_tokenize(disease)\n",
    "    diseases_list = ['fever', 'achondroplasia', 'abdominal hernias','hernias' 'pain', 'hernias', 'itchy', 'itch']\n",
    "    for disease in dr_transcription:\n",
    "        if disease in diseases_list:\n",
    "            return disease\n",
    "        else:\n",
    "            return \"Not Found\"\n",
    "    \n",
    "\n",
    "\n",
    "\n",
    "disease = checking_disease(dr_transcription)\n",
    "print(\"Disease :->\", disease)\n"
   ]
  },
  {
   "cell_type": "code",
   "execution_count": 189,
   "metadata": {},
   "outputs": [
    {
     "name": "stdout",
     "output_type": "stream",
     "text": [
      "Word: itch\n",
      "\n",
      "Word: eye\n",
      "\n",
      "Word: since\n",
      "\n",
      "<function none at 0x0000013FAE69EB80>\n",
      "<function none at 0x0000013FAE69EB80>\n",
      "<function none at 0x0000013FAE69EB80>\n",
      "<function none at 0x0000013FAE69EB80>\n",
      "Matched Disease :-> ['itch']\n"
     ]
    }
   ],
   "source": [
    "#Disease Matching\n",
    "from hamcrest import none\n",
    "embeddings = model.encode(result)\n",
    "\n",
    "\n",
    "\n",
    "diseases_list = ['fever', 'achondroplasia', 'abdominal hernias', 'pain', 'hernias', 'itchy', 'itch']\n",
    "dr_transcription = dr_transcription\n",
    "# Print the embeddings\n",
    "for sentence, embedding in zip(dr_transcription, embeddings):\n",
    "    print(\"Word:\", sentence)\n",
    "    #print(\"Embedding:\", embedding)\n",
    "    print(\"\")\n",
    "matched_disease = []\n",
    "for i in dr_transcription:\n",
    "    if i in diseases_list:\n",
    "        matched_disease.append(i)\n",
    "        continue\n",
    "    else:\n",
    "        print(none)\n",
    "\n",
    "\n",
    "print(\"Matched Disease :->\", matched_disease)\n",
    "embedding_disease = model.encode(diseases_list)\n",
    "#print(embedding_disease)\n",
    "#sim = model.encode(dr_transcription)\n",
    "#print(\"comparing of 1st with 2nd :->\",\"{0:.4f}\".format(sim.tolist()[0][0])) "
   ]
  },
  {
   "cell_type": "code",
   "execution_count": 1,
   "metadata": {},
   "outputs": [
    {
     "ename": "NameError",
     "evalue": "name 'pd' is not defined",
     "output_type": "error",
     "traceback": [
      "\u001b[1;31m---------------------------------------------------------------------------\u001b[0m",
      "\u001b[1;31mNameError\u001b[0m                                 Traceback (most recent call last)",
      "\u001b[1;32md:\\asad\\nlp-engine-for-symptoms\\pre-processing.ipynb Cell 31\u001b[0m in \u001b[0;36m<cell line: 1>\u001b[1;34m()\u001b[0m\n\u001b[1;32m----> <a href='vscode-notebook-cell:/d%3A/asad/nlp-engine-for-symptoms/pre-processing.ipynb#ch0000030?line=0'>1</a>\u001b[0m body_organ \u001b[39m=\u001b[39m pd\u001b[39m.\u001b[39mread_csv(\u001b[39m'\u001b[39m\u001b[39mbody_organ.csv\u001b[39m\u001b[39m'\u001b[39m)\n\u001b[0;32m      <a href='vscode-notebook-cell:/d%3A/asad/nlp-engine-for-symptoms/pre-processing.ipynb#ch0000030?line=1'>2</a>\u001b[0m body_organ\u001b[39m.\u001b[39mhead()\n",
      "\u001b[1;31mNameError\u001b[0m: name 'pd' is not defined"
     ]
    }
   ],
   "source": [
    "body_organ = pd.read_csv('body_organ.csv')\n",
    "body_organ.head()"
   ]
  },
  {
   "cell_type": "code",
   "execution_count": 196,
   "metadata": {},
   "outputs": [],
   "source": [
    "body_organ['Organ'] = body_organ['Organ'].astype(str)\n",
    "body_organ['Organ'] = body_organ['Organ'].apply(lambda x :x.lower())"
   ]
  },
  {
   "cell_type": "code",
   "execution_count": 197,
   "metadata": {},
   "outputs": [],
   "source": [
    "body_organ = body_organ['Organ'].to_list()"
   ]
  },
  {
   "cell_type": "code",
   "execution_count": 198,
   "metadata": {},
   "outputs": [
    {
     "name": "stdout",
     "output_type": "stream",
     "text": [
      "['itch', 'eye', 'since', '1', 'yr']\n",
      "['abdomen', 'abdomen (right hypochondium)', 'abdomen (right lumber)', 'abdomen (right eliac region)', 'abdomen (left hypochondium)', 'abdomen (left lumber)', 'abdomen (left eliac region)', 'abdomen (epigastric region)', 'abdomen (umbilical region)', 'abdomen (hypogastrium)', 'ankle', 'back', 'back (lower)', 'back (upper)', 'breast', 'buttock', 'calf', 'chest', 'ear', 'elbow', 'forehead', 'eye', 'face', 'finger', 'foot', 'hair', 'hand', 'head', 'heel', 'hip', 'knee', 'leg', 'lips', 'mouth', 'nail', 'neck', 'nose', 'palm', 'pelvis', 'shin', 'shoulder', 'skin', 'teeth', 'thigh', 'throat', 'thumb', 'toe', 'waist', 'wrist', 'full body', 'anywhere', 'vagina', 'penis', 'nipple', 'heart', 'kidney', 'lungs', 'liver', 'brain', 'bladder', 'stomach', 'intestines', 'uterus', 'blood', 'overy', 'testicles', 'limbs', 'spine', 'gollbladder', 'skull', 'gums', 'parotid gland', 'upper extremities', 'lower extremities', 'not specified', 'salivary glands', 'cartilagenous', 'multisystemic disorders', 'neurological disorder', 'bone', 'blood vessel', 'pancreas', 'adrenal glanel', 'lymphatic system', 'larynx', 'genital', 'cervix', 'bile duct', 'cns', 'prostate', 'respiratory system', 'skeletal system', 'renal system', 'cardivascular system', 'pitutiary gland', 'pneal gland', 'hypohealauous', 'parathyroid gland', 'thyroid gland', 'gastrointestinal system', 'anus', 'anal anal', 'oesophagus', 'rectum', 'cavernous sinus', 'tongue', 'paranasal sinus', 'hardplate', 'softplate', 'male reproductive system', 'female reproductive system', 'fallopian tubes', 'lower abdomen', 'adrenal glands', 'joint', 'multiple organ', 'gallbladder', 'muscle', 'muscle skeletal system', 'tissues', 'immune system  ', 'urinary tract infection', 'spinal cord', 'bone marrow', 'utreine corpus', 'testis', 'oral cavity', 'oropharynx', 'red blood cells', 'ans', 'hypothalamus', 'arteries', 'sole', 'trunk', 'labia majora', 'labia minora', 'glans penis', 'mouth angle', 'buccal mucosa', 'shaft penis', 'haematopoietic system', 'trachea', 'circulatory system', 'peripheral nervous system', 'depends on area of burn', 'vascular system', 'venous system', 'urinary bladder', 'mammary glands', 'reproductive system', 'urinary system']\n",
      "<function none at 0x0000013FAE69EB80>\n",
      "<function none at 0x0000013FAE69EB80>\n",
      "<function none at 0x0000013FAE69EB80>\n",
      "<function none at 0x0000013FAE69EB80>\n",
      "Organ :-> ['eye']\n"
     ]
    }
   ],
   "source": [
    "#checking  body organ\n",
    "print(dr_transcription)\n",
    "def check_body_organ(dr_transcription,body_organ):\n",
    "    dr_transcription = dr_transcription\n",
    "    body_organ_list = body_organ\n",
    "    print(body_organ_list)\n",
    "    matched_body_organ = []\n",
    "    for i in dr_transcription:\n",
    "        if i in body_organ_list:\n",
    "            #print(i)\n",
    "            matched_body_organ.append(i)\n",
    "            continue\n",
    "        else:\n",
    "            print(none)\n",
    "    print(\"Organ :->\", matched_body_organ)\n",
    "bd_organ = check_body_organ(dr_transcription,body_organ)\n",
    "#print(\"Organ :\", bd_organ)"
   ]
  },
  {
   "cell_type": "code",
   "execution_count": 192,
   "metadata": {},
   "outputs": [
    {
     "name": "stdout",
     "output_type": "stream",
     "text": [
      "<class 'list'>\n",
      "<class 'textblob.blob.TextBlob'>\n",
      "<class 'textblob.blob.TextBlob'>\n",
      "<class 'textblob.blob.TextBlob'>\n",
      "{'abdomen', 'venter', 'abdominal_cavity', 'stomach', 'belly'}\n",
      "Sentence: fever headache for 20 days\n",
      "Embedding: [ 0.09523411  0.06470332 -0.30507928 -0.2231611  -0.2347271   0.04536242\n",
      "  1.0894808   0.58303845  0.5594681   0.1355435   0.43327123 -0.17923024\n",
      " -0.03225068 -0.25941533 -0.17211775 -0.44776145 -0.18185028 -0.16525367\n",
      " -0.68620193 -0.30656338  0.54526937 -0.13851416  0.03838924 -0.07038049\n",
      " -0.39278632  0.17501178 -0.16452442  0.15071122 -0.00760711 -0.6226722\n",
      "  0.25688344  0.07360788  0.4133746   0.08934994  0.2080049   0.11153354\n",
      "  0.35777813  0.68070173 -0.2646817  -0.1237617  -0.31689304 -0.47309238\n",
      "  0.29375988  0.62149227  0.28507033  0.1832299   0.10133252  0.21880583\n",
      " -0.04922507  0.25708064 -0.28593236  0.0289024  -0.58608544  0.07013474\n",
      "  0.44660172  0.2146254   0.5933214  -0.22107434 -0.32148576  0.60399747\n",
      " -0.04429484 -0.27790517 -0.25415197  0.70351326  0.5145527  -0.06960458\n",
      " -0.46240503 -0.4749159  -0.60043514  0.13998544  0.10875013 -0.12309802\n",
      " -0.336688   -0.05849387  0.21451052  0.64498794 -0.11152843  0.5043681\n",
      "  0.10971966  0.30158934  0.07503447 -0.26775426 -0.3279625  -0.19647798\n",
      "  0.12837976  0.2781756   0.31291685  0.06496774  0.26003534  0.1068423\n",
      " -0.58549166  0.03263509 -0.3085934  -0.22796199  0.14550383  0.11218528\n",
      "  0.0371174  -0.72292453 -0.02572249  1.1337227  -0.2968523  -0.00600236\n",
      " -0.518889    0.15722182 -0.35232642 -0.19969223 -0.05334657  0.0372424\n",
      " -0.08734424 -0.4091805  -0.67787284 -0.91912717  0.19734924 -0.28986287\n",
      "  0.01191833 -0.3472232   0.5043919   0.02316287  0.5232434  -1.0785518\n",
      "  0.13226086  0.2724057  -0.13403597 -0.187949   -0.19778092 -0.64130414\n",
      "  0.50087816  0.16975224 -0.21569256  0.50222135  0.36313492 -0.3070364\n",
      "  0.09996276  0.30701128 -0.25812152 -0.34747353  0.31423774 -0.10274615\n",
      " -0.3604226   0.5124081   0.38177532  0.04070032  0.44251555 -0.09603749\n",
      "  0.48530692  0.46550545 -0.53575367 -0.14860743  0.38482958 -0.01540738\n",
      "  0.07125176 -0.47716838  0.6069051  -0.1835191  -0.4892363  -0.04307682\n",
      "  0.27655482  0.25991428  0.04140988  0.3183754  -0.5982315  -0.03434056\n",
      "  0.29435214 -0.26145363 -0.2371809   0.2972172   0.49910736 -0.09299475\n",
      " -0.01461443  0.33833092  0.21035115  0.19275792  0.42700306  0.15149459\n",
      "  0.16556582 -0.11990223  0.15440202  0.28590414  0.25494835  0.6133461\n",
      "  0.18756565 -0.3661009   0.41032076  0.00611927 -0.07684688  0.5445529\n",
      "  0.04469326  0.02680218 -0.18957803  0.07204998  0.23435739  0.07022168\n",
      " -1.0309756   0.30856204 -0.3338887  -0.6290826   0.2596649   0.24166505\n",
      "  0.2112021   0.13075468  0.42362413 -0.57410634 -0.05361471 -0.21544814\n",
      "  0.04707863 -0.40693513  0.14695759 -0.4733227  -0.42544866  0.30107287\n",
      " -0.32379475 -0.12466826  0.01654746 -0.17246744  0.10948058 -0.66330576\n",
      " -0.00782155 -0.18020897 -0.62601763  0.01790484  0.2429004  -0.03979107\n",
      "  0.19349703 -0.6008487  -0.07609223  0.29080182 -0.13534692  0.02802894\n",
      " -0.24253023  0.17416534  0.512102   -0.520075    0.67653704  0.33619955\n",
      " -0.24386707 -0.42066893 -0.04061945  0.1740478  -0.13212831 -0.35616824\n",
      " -0.10011585 -0.04606794 -0.21270847  0.07407124 -0.41434628 -0.16365471\n",
      " -0.27357012  0.09631906  0.2550891   0.5471179  -0.8530797   0.34951442\n",
      " -0.91749686  0.22882533 -0.50025475 -0.43280524 -0.01046613  0.38346455\n",
      " -0.3357912   0.373987    0.81339324 -0.446134    0.01232727  0.2491997\n",
      "  0.35595337  0.41757846  0.32071453  0.78255093 -0.8066305   0.02289482\n",
      " -0.38915342  0.07023346  0.5476576   0.01453327 -0.34673715 -0.3702355\n",
      " -0.22040324 -0.11891226 -0.40104455  0.31086585 -0.21746406 -0.6715226\n",
      " -0.71403086  0.11913785 -0.12697971 -0.21390776  0.45002818  0.5407092\n",
      "  0.00465779 -0.39183983 -0.12852764  0.29119855 -0.36888677 -0.1521816\n",
      "  0.73221415  0.6195787  -0.18269192  0.48112336 -0.24410005 -0.25259042\n",
      " -0.00501186 -0.22689486 -0.20577145  0.2457507  -0.07227787 -0.03502307\n",
      " -0.03626238  0.35605618  0.26421362 -0.31781897  0.00654223  0.04876212\n",
      "  0.67513597  0.17882177 -0.23389879  0.75985324  0.16962922  0.20972076\n",
      "  0.33539256  0.14829233 -0.07412841 -0.5538353   0.15140565  0.11370762\n",
      "  0.291724    0.09519179 -0.31189552 -1.1395099  -0.24536233  0.31145033\n",
      "  0.02495042  0.5807377  -0.05332153 -0.23591521  0.2148052   0.07977352\n",
      " -0.22642162 -0.30471236 -0.36106747 -0.02170677 -0.2418989   0.27926484\n",
      " -0.381066   -0.02767208 -0.08952186 -0.3434791  -0.03976896  0.1602633\n",
      " -0.66747254  0.2952548   0.07525249  0.37329772  0.6059754  -0.31432647\n",
      "  0.14226066  0.1387465   0.57242763  0.27020332  0.01129462  0.00636827\n",
      "  0.41778794  0.22338101 -0.3966338   0.591355   -0.50206244  0.512591\n",
      " -0.7207367   0.22921333 -0.0191414   0.03611793 -0.01697459  0.47531405\n",
      " -0.01848464 -0.30663317  0.07484265 -0.6008238  -0.3392075   0.02904656\n",
      " -0.33569437 -0.24439695  0.01129421 -0.0708672   0.88127613  0.13065012]\n",
      "\n",
      "Sentence: fever and hedache 1 day\n",
      "Embedding: [ 0.09523429  0.06470326 -0.3050794  -0.22316138 -0.23472719  0.04536211\n",
      "  1.0894808   0.58303845  0.5594678   0.13554367  0.43327147 -0.17923033\n",
      " -0.03225067 -0.2594151  -0.17211786 -0.4477612  -0.18185    -0.16525367\n",
      " -0.686202   -0.30656323  0.54526913 -0.13851392  0.038389   -0.07038064\n",
      " -0.39278635  0.17501195 -0.16452467  0.15071097 -0.00760711 -0.6226722\n",
      "  0.25688335  0.07360775  0.41337472  0.08934994  0.20800492  0.1115339\n",
      "  0.3577777   0.6807015  -0.26468176 -0.12376164 -0.31689304 -0.47309232\n",
      "  0.29376012  0.62149245  0.28507045  0.18322994  0.10133256  0.21880607\n",
      " -0.04922497  0.2570806  -0.28593233  0.02890242 -0.58608556  0.07013473\n",
      "  0.44660163  0.21462555  0.59332144 -0.22107443 -0.3214858   0.6039978\n",
      " -0.04429487 -0.27790523 -0.25415173  0.70351326  0.5145526  -0.06960438\n",
      " -0.46240497 -0.47491592 -0.6004349   0.13998541  0.10875037 -0.12309798\n",
      " -0.33668798 -0.05849384  0.21451071  0.64498806 -0.11152866  0.5043682\n",
      "  0.1097198   0.30158952  0.07503467 -0.26775438 -0.32796258 -0.19647798\n",
      "  0.12837958  0.2781753   0.31291667  0.06496793  0.26003516  0.10684235\n",
      " -0.58549184  0.03263538 -0.3085931  -0.22796234  0.14550355  0.11218532\n",
      "  0.03711744 -0.7229245  -0.02572234  1.1337224  -0.29685253 -0.0060026\n",
      " -0.51888883  0.15722165 -0.35232607 -0.19969225 -0.0533465   0.03724243\n",
      " -0.08734397 -0.4091804  -0.67787284 -0.9191271   0.19734904 -0.28986305\n",
      "  0.01191811 -0.347223    0.5043918   0.02316299  0.52324355 -1.0785515\n",
      "  0.13226107  0.27240556 -0.13403583 -0.18794909 -0.19778061 -0.6413044\n",
      "  0.50087786  0.16975203 -0.21569273  0.5022213   0.36313504 -0.30703616\n",
      "  0.09996308  0.30701137 -0.2581215  -0.3474738   0.31423768 -0.10274625\n",
      " -0.3604225   0.51240796  0.3817754   0.0407006   0.4425157  -0.09603764\n",
      "  0.48530683  0.46550536 -0.5357536  -0.14860766  0.38482994 -0.01540754\n",
      "  0.07125206 -0.47716823  0.60690486 -0.18351896 -0.4892365  -0.04307677\n",
      "  0.27655512  0.2599141   0.04140986  0.31837544 -0.5982315  -0.03434052\n",
      "  0.29435235 -0.26145345 -0.23718083  0.29721716  0.49910775 -0.09299469\n",
      " -0.01461503  0.3383308   0.21035127  0.19275793  0.42700297  0.15149426\n",
      "  0.16556594 -0.11990209  0.1544019   0.2859042   0.2549485   0.61334616\n",
      "  0.18756577 -0.3661007   0.41032082  0.00611935 -0.07684691  0.54455304\n",
      "  0.04469353  0.02680207 -0.18957803  0.07204996  0.23435727  0.07022182\n",
      " -1.0309757   0.30856195 -0.3338886  -0.62908256  0.25966528  0.241665\n",
      "  0.21120214  0.13075456  0.42362395 -0.5741065  -0.05361515 -0.21544845\n",
      "  0.04707857 -0.40693513  0.14695771 -0.47332326 -0.42544857  0.3010727\n",
      " -0.32379523 -0.12466808  0.01654744 -0.17246677  0.10948084 -0.66330606\n",
      " -0.0078217  -0.18020892 -0.6260175   0.01790495  0.24290028 -0.03979127\n",
      "  0.19349703 -0.60084903 -0.07609233  0.29080206 -0.13534713  0.02802886\n",
      " -0.2425303   0.17416497  0.51210207 -0.5200752   0.6765373   0.33619922\n",
      " -0.2438674  -0.42066917 -0.0406193   0.17404822 -0.1321285  -0.3561681\n",
      " -0.10011611 -0.04606787 -0.21270852  0.0740713  -0.41434616 -0.16365483\n",
      " -0.2735702   0.09631892  0.25508893  0.5471181  -0.85308     0.34951434\n",
      " -0.91749656  0.22882552 -0.5002548  -0.43280515 -0.01046591  0.3834643\n",
      " -0.3357914   0.3739872   0.813393   -0.4461341   0.01232733  0.24919975\n",
      "  0.3559535   0.41757852  0.3207146   0.7825511  -0.80663073  0.02289495\n",
      " -0.38915318  0.07023352  0.54765755  0.01453315 -0.34673697 -0.37023553\n",
      " -0.22040331 -0.11891234 -0.40104485  0.31086594 -0.21746401 -0.6715228\n",
      " -0.7140311   0.11913784 -0.12697983 -0.21390796  0.45002836  0.54070896\n",
      "  0.00465788 -0.39183992 -0.12852785  0.29119903 -0.36888677 -0.15218154\n",
      "  0.73221415  0.6195786  -0.18269226  0.4811232  -0.24410005 -0.25259033\n",
      " -0.00501188 -0.22689462 -0.20577137  0.24575062 -0.07227786 -0.03502277\n",
      " -0.0362624   0.35605636  0.26421377 -0.31781942  0.00654209  0.04876206\n",
      "  0.67513615  0.17882203 -0.23389873  0.7598534   0.16962908  0.20972109\n",
      "  0.33539265  0.14829223 -0.07412853 -0.5538353   0.15140563  0.11370774\n",
      "  0.29172385  0.09519213 -0.31189552 -1.1395099  -0.24536252  0.31145015\n",
      "  0.02495043  0.58073807 -0.05332156 -0.23591538  0.21480496  0.07977351\n",
      " -0.22642171 -0.30471206 -0.3610672  -0.02170687 -0.24189913  0.27926487\n",
      " -0.38106593 -0.02767219 -0.08952192 -0.34347895 -0.03976884  0.16026351\n",
      " -0.6674726   0.29525462  0.07525239  0.37329763  0.6059755  -0.3143265\n",
      "  0.14226069  0.13874662  0.57242787  0.27020332  0.01129465  0.0063682\n",
      "  0.4177876   0.2233814  -0.39663368  0.59135514 -0.5020626   0.512591\n",
      " -0.7207367   0.22921324 -0.01914124  0.03611812 -0.0169748   0.47531366\n",
      " -0.01848457 -0.30663323  0.0748428  -0.6008235  -0.33920747  0.02904649\n",
      " -0.3356943  -0.24439685  0.01129421 -0.07086698  0.8812764   0.13065019]\n",
      "\n",
      "Sentence: fever headach frm last 30 days\n",
      "Embedding: [ 0.09523411  0.06470332 -0.30507928 -0.2231611  -0.2347271   0.04536242\n",
      "  1.0894808   0.58303845  0.5594681   0.1355435   0.43327123 -0.17923024\n",
      " -0.03225068 -0.25941533 -0.17211775 -0.44776145 -0.18185028 -0.16525367\n",
      " -0.68620193 -0.30656338  0.54526937 -0.13851416  0.03838924 -0.07038049\n",
      " -0.39278632  0.17501178 -0.16452442  0.15071122 -0.00760711 -0.6226722\n",
      "  0.25688344  0.07360788  0.4133746   0.08934994  0.2080049   0.11153354\n",
      "  0.35777813  0.68070173 -0.2646817  -0.1237617  -0.31689304 -0.47309238\n",
      "  0.29375988  0.62149227  0.28507033  0.1832299   0.10133252  0.21880583\n",
      " -0.04922507  0.25708064 -0.28593236  0.0289024  -0.58608544  0.07013474\n",
      "  0.44660172  0.2146254   0.5933214  -0.22107434 -0.32148576  0.60399747\n",
      " -0.04429484 -0.27790517 -0.25415197  0.70351326  0.5145527  -0.06960458\n",
      " -0.46240503 -0.4749159  -0.60043514  0.13998544  0.10875013 -0.12309802\n",
      " -0.336688   -0.05849387  0.21451052  0.64498794 -0.11152843  0.5043681\n",
      "  0.10971966  0.30158934  0.07503447 -0.26775426 -0.3279625  -0.19647798\n",
      "  0.12837976  0.2781756   0.31291685  0.06496774  0.26003534  0.1068423\n",
      " -0.58549166  0.03263509 -0.3085934  -0.22796199  0.14550383  0.11218528\n",
      "  0.0371174  -0.72292453 -0.02572249  1.1337227  -0.2968523  -0.00600236\n",
      " -0.518889    0.15722182 -0.35232642 -0.19969223 -0.05334657  0.0372424\n",
      " -0.08734424 -0.4091805  -0.67787284 -0.91912717  0.19734924 -0.28986287\n",
      "  0.01191833 -0.3472232   0.5043919   0.02316287  0.5232434  -1.0785518\n",
      "  0.13226086  0.2724057  -0.13403597 -0.187949   -0.19778092 -0.64130414\n",
      "  0.50087816  0.16975224 -0.21569256  0.50222135  0.36313492 -0.3070364\n",
      "  0.09996276  0.30701128 -0.25812152 -0.34747353  0.31423774 -0.10274615\n",
      " -0.3604226   0.5124081   0.38177532  0.04070032  0.44251555 -0.09603749\n",
      "  0.48530692  0.46550545 -0.53575367 -0.14860743  0.38482958 -0.01540738\n",
      "  0.07125176 -0.47716838  0.6069051  -0.1835191  -0.4892363  -0.04307682\n",
      "  0.27655482  0.25991428  0.04140988  0.3183754  -0.5982315  -0.03434056\n",
      "  0.29435214 -0.26145363 -0.2371809   0.2972172   0.49910736 -0.09299475\n",
      " -0.01461443  0.33833092  0.21035115  0.19275792  0.42700306  0.15149459\n",
      "  0.16556582 -0.11990223  0.15440202  0.28590414  0.25494835  0.6133461\n",
      "  0.18756565 -0.3661009   0.41032076  0.00611927 -0.07684688  0.5445529\n",
      "  0.04469326  0.02680218 -0.18957803  0.07204998  0.23435739  0.07022168\n",
      " -1.0309756   0.30856204 -0.3338887  -0.6290826   0.2596649   0.24166505\n",
      "  0.2112021   0.13075468  0.42362413 -0.57410634 -0.05361471 -0.21544814\n",
      "  0.04707863 -0.40693513  0.14695759 -0.4733227  -0.42544866  0.30107287\n",
      " -0.32379475 -0.12466826  0.01654746 -0.17246744  0.10948058 -0.66330576\n",
      " -0.00782155 -0.18020897 -0.62601763  0.01790484  0.2429004  -0.03979107\n",
      "  0.19349703 -0.6008487  -0.07609223  0.29080182 -0.13534692  0.02802894\n",
      " -0.24253023  0.17416534  0.512102   -0.520075    0.67653704  0.33619955\n",
      " -0.24386707 -0.42066893 -0.04061945  0.1740478  -0.13212831 -0.35616824\n",
      " -0.10011585 -0.04606794 -0.21270847  0.07407124 -0.41434628 -0.16365471\n",
      " -0.27357012  0.09631906  0.2550891   0.5471179  -0.8530797   0.34951442\n",
      " -0.91749686  0.22882533 -0.50025475 -0.43280524 -0.01046613  0.38346455\n",
      " -0.3357912   0.373987    0.81339324 -0.446134    0.01232727  0.2491997\n",
      "  0.35595337  0.41757846  0.32071453  0.78255093 -0.8066305   0.02289482\n",
      " -0.38915342  0.07023346  0.5476576   0.01453327 -0.34673715 -0.3702355\n",
      " -0.22040324 -0.11891226 -0.40104455  0.31086585 -0.21746406 -0.6715226\n",
      " -0.71403086  0.11913785 -0.12697971 -0.21390776  0.45002818  0.5407092\n",
      "  0.00465779 -0.39183983 -0.12852764  0.29119855 -0.36888677 -0.1521816\n",
      "  0.73221415  0.6195787  -0.18269192  0.48112336 -0.24410005 -0.25259042\n",
      " -0.00501186 -0.22689486 -0.20577145  0.2457507  -0.07227787 -0.03502307\n",
      " -0.03626238  0.35605618  0.26421362 -0.31781897  0.00654223  0.04876212\n",
      "  0.67513597  0.17882177 -0.23389879  0.75985324  0.16962922  0.20972076\n",
      "  0.33539256  0.14829233 -0.07412841 -0.5538353   0.15140565  0.11370762\n",
      "  0.291724    0.09519179 -0.31189552 -1.1395099  -0.24536233  0.31145033\n",
      "  0.02495042  0.5807377  -0.05332153 -0.23591521  0.2148052   0.07977352\n",
      " -0.22642162 -0.30471236 -0.36106747 -0.02170677 -0.2418989   0.27926484\n",
      " -0.381066   -0.02767208 -0.08952186 -0.3434791  -0.03976896  0.1602633\n",
      " -0.66747254  0.2952548   0.07525249  0.37329772  0.6059754  -0.31432647\n",
      "  0.14226066  0.1387465   0.57242763  0.27020332  0.01129462  0.00636827\n",
      "  0.41778794  0.22338101 -0.3966338   0.591355   -0.50206244  0.512591\n",
      " -0.7207367   0.22921333 -0.0191414   0.03611793 -0.01697459  0.47531405\n",
      " -0.01848464 -0.30663317  0.07484265 -0.6008238  -0.3392075   0.02904656\n",
      " -0.33569437 -0.24439695  0.01129421 -0.0708672   0.88127613  0.13065012]\n",
      "\n"
     ]
    }
   ],
   "source": [
    "#Sentence Embedding\n",
    "import pandas as pd\n",
    "from sentence_transformers import SentenceTransformer\n",
    "\n",
    "# Download model\n",
    "model = SentenceTransformer('paraphrase-MiniLM-L6-v2')\n",
    "\n",
    "# The sentences we'd like to encode\n",
    "sentences = ['couigh 15 days',\n",
    "    'cough and cold 15 days',\n",
    "    'cough since 15 days']\n",
    "sentences = ['Fever Headache for 20 days',\n",
    "    'fever and hedache 1 Day',\n",
    "    'fever, headach frm Last 30 days']\n",
    "\n",
    "\n",
    "#lower the sentence \n",
    "#sentences = [sentence.lower() for sentence in sentences]\n",
    "df = pd.DataFrame(sentences, columns =['SymptomList'])\n",
    "df['SymptomList'] = df['SymptomList'].astype(str)\n",
    "df['SymptomList'] = df['SymptomList'].apply(lambda x:x.lower())\n",
    "\n",
    "\n",
    "#remove html tags\n",
    "df['SymptomList'] = df['SymptomList'].apply(remove_html_tags)\n",
    "\n",
    "#remove url\n",
    "df['SymptomList'] = df['SymptomList'].apply(remove_url)\n",
    "\n",
    "#remove punc\n",
    "df['SymptomList'] = df['SymptomList'].apply(remove_punct)\n",
    "\n",
    "\n",
    "#converting dataframe to list\n",
    "sentences = df['SymptomList'].to_list()\n",
    "\n",
    "\n",
    "\n",
    "\n",
    "\n",
    "#correction of word/sentence\n",
    "#Sectence Correction\n",
    "sentences = sentences\n",
    "#sentences = [sentence.lower() for sentence in sentences]\n",
    "sentences = [ TextBlob(sentence) for sentence in sentences]\n",
    "result = [ sentence.correct() for sentence in sentences]            \n",
    "#sentences = TextBlob(sentences)\n",
    "#result = sentences.correct()\n",
    "\n",
    "print(type(result))\n",
    "\n",
    "#short matching \n",
    "\n",
    "\n",
    "\n",
    "\n",
    "#Rule based matching\n",
    "\n",
    "\n",
    "\n",
    "#token & removing stop words\n",
    "without_stop_word = []\n",
    "#stp = [ stop_word_remover(sentence) for sentence in result]\n",
    "for sentence in result:\n",
    "    print(type(sentence))\n",
    "    #stp = stop_word_remover(sentence)\n",
    "    #without_stop_word.append(stp)\n",
    "    #without_stop_word.append(stop_word_remover(sentence))\n",
    "\n",
    "\n",
    "#Synonym checking\n",
    "from nltk.corpus import wordnet\n",
    "\n",
    "synonyms = []\n",
    "\n",
    "for syn in wordnet.synsets(\"abdomen\"):\n",
    "    for i in syn.lemmas():\n",
    "        synonyms.append(i.name())\n",
    "\n",
    "print(set(synonyms))\n",
    "\n",
    "#print(stp)\n",
    "# Get embeddings of sentences\n",
    "embeddings = model.encode(result)\n",
    "\n",
    "# Print the embeddings\n",
    "for sentence, embedding in zip(sentences, embeddings):\n",
    "    print(\"Sentence:\", sentence)\n",
    "    print(\"Embedding:\", embedding)\n",
    "    print(\"\")"
   ]
  },
  {
   "cell_type": "code",
   "execution_count": 193,
   "metadata": {},
   "outputs": [
    {
     "name": "stdout",
     "output_type": "stream",
     "text": [
      "Not Found\n"
     ]
    }
   ],
   "source": [
    "#checking for disease\n",
    "def checking_disease(symptoms_plus_disease):\n",
    "    disease = symptoms_plus_disease\n",
    "    tokens = nltk.word_tokenize(disease)\n",
    "    diseases_list = ['fever', 'achondroplasia']\n",
    "    if disease in diseases_list:\n",
    "        return disease\n",
    "    else:\n",
    "        return \"Not Found\"\n",
    "    \n",
    "\n",
    "\n",
    "\n",
    "disease = checking_disease('fever -3days')\n",
    "print(disease)"
   ]
  },
  {
   "cell_type": "code",
   "execution_count": 44,
   "metadata": {},
   "outputs": [],
   "source": [
    "#checking  body organ\n",
    "def body_organ(dr_transcription):\n",
    "    body_organ = symptoms_plus_disease\n",
    "    dr_transcription = ['right', 'side', 'abdominal', 'hernias', 'pain', 'associate', 'increase', 'eat', 'x', '1', 'months', 'fever']\n",
    "    body_organ_list = []\n",
    "    if body_organ in body_organ_list:\n",
    "        return body_organ\n",
    "    else:\n",
    "        return \"Not Found any body organ\""
   ]
  },
  {
   "cell_type": "code",
   "execution_count": 1,
   "metadata": {},
   "outputs": [
    {
     "ename": "NameError",
     "evalue": "name 'pd' is not defined",
     "output_type": "error",
     "traceback": [
      "\u001b[1;31m---------------------------------------------------------------------------\u001b[0m",
      "\u001b[1;31mNameError\u001b[0m                                 Traceback (most recent call last)",
      "\u001b[1;32md:\\asad\\nlp-engine-for-symptoms\\pre-processing.ipynb Cell 25\u001b[0m in \u001b[0;36m<cell line: 1>\u001b[1;34m()\u001b[0m\n\u001b[1;32m----> <a href='vscode-notebook-cell:/d%3A/asad/nlp-engine-for-symptoms/pre-processing.ipynb#ch0000024?line=0'>1</a>\u001b[0m symptoms_list \u001b[39m=\u001b[39m pd\u001b[39m.\u001b[39mread_csv(\u001b[39m'\u001b[39m\u001b[39msymptomsListN.csv\u001b[39m\u001b[39m'\u001b[39m)\n",
      "\u001b[1;31mNameError\u001b[0m: name 'pd' is not defined"
     ]
    }
   ],
   "source": [
    "symptoms_list = pd.read_csv('symptomsListN.csv')"
   ]
  },
  {
   "cell_type": "code",
   "execution_count": 20,
   "metadata": {},
   "outputs": [],
   "source": [
    "import requests\n",
    "test_api =  'http://182.156.200.179:332/api/v1.0/Knowmed/getAllProblemList'\n",
    "#payload = {\"alphabet\": \"a\"}\n",
    "test_response = requests.post(test_api, json={\"alphabet\": \"\"})\n",
    "response_data = test_response.json()\n",
    "mydict = {}\n",
    "problemNames = {}\n",
    "for i in range(len(response_data['responseValue'])):\n",
    "    #print(response_data['responseValue'][i]['problemName'])\n",
    "    #problemNames.append(response_data['responseValue'][i]['id'])\n",
    "    t = {response_data['responseValue'][i]['id']:response_data['responseValue'][i]['problemName'].lower()}\n",
    "    problemNames.update(t)\n",
    "    #x = [{id: id, 'problemName': problemName} for id, problemName in mydict.items() if problemName == search_value]\n",
    "\n",
    "\n"
   ]
  },
  {
   "cell_type": "code",
   "execution_count": 21,
   "metadata": {},
   "outputs": [
    {
     "data": {
      "text/plain": [
       "[{7743: 'fever'}]"
      ]
     },
     "execution_count": 21,
     "metadata": {},
     "output_type": "execute_result"
    }
   ],
   "source": [
    "search_value = 'fever'\n",
    "tx = [{key:value} for key, value in problemNames.items() if value == search_value]\n",
    "tx"
   ]
  },
  {
   "cell_type": "code",
   "execution_count": null,
   "metadata": {},
   "outputs": [],
   "source": [
    "import requests\n",
    "test_api =  'http://182.156.200.179:332/api/v1.0/Knowmed/getAllProblemList'\n",
    "payload = {\"alphabet\": \"a\"}\n",
    "test_response = requests.post(test_api, json={\"alphabet\": \"\"})\n",
    "response_data = test_response.json()\n",
    "print(response_data)"
   ]
  },
  {
   "cell_type": "code",
   "execution_count": 3,
   "metadata": {},
   "outputs": [
    {
     "name": "stdout",
     "output_type": "stream",
     "text": [
      "Defaulting to user installation because normal site-packages is not writeableNote: you may need to restart the kernel to use updated packages.\n",
      "\n",
      "Collecting rake-nltk\n",
      "  Downloading rake_nltk-1.0.6-py3-none-any.whl (9.1 kB)\n",
      "Requirement already satisfied: nltk<4.0.0,>=3.6.2 in c:\\programdata\\anaconda3\\lib\\site-packages (from rake-nltk) (3.7)\n",
      "Requirement already satisfied: tqdm in c:\\programdata\\anaconda3\\lib\\site-packages (from nltk<4.0.0,>=3.6.2->rake-nltk) (4.64.0)\n",
      "Requirement already satisfied: joblib in c:\\programdata\\anaconda3\\lib\\site-packages (from nltk<4.0.0,>=3.6.2->rake-nltk) (1.1.0)\n",
      "Requirement already satisfied: click in c:\\programdata\\anaconda3\\lib\\site-packages (from nltk<4.0.0,>=3.6.2->rake-nltk) (8.0.4)\n",
      "Requirement already satisfied: regex>=2021.8.3 in c:\\programdata\\anaconda3\\lib\\site-packages (from nltk<4.0.0,>=3.6.2->rake-nltk) (2022.3.15)\n",
      "Requirement already satisfied: colorama in c:\\programdata\\anaconda3\\lib\\site-packages (from click->nltk<4.0.0,>=3.6.2->rake-nltk) (0.4.4)\n",
      "Installing collected packages: rake-nltk\n",
      "Successfully installed rake-nltk-1.0.6\n"
     ]
    }
   ],
   "source": [
    "%pip install rake-nltk\n"
   ]
  },
  {
   "cell_type": "code",
   "execution_count": 8,
   "metadata": {},
   "outputs": [
    {
     "data": {
      "text/plain": [
       "[(16.0, 'coughing fever wt loss'),\n",
       " (16.0, '5 months chest pain'),\n",
       " (9.0, 'cough dry 1')]"
      ]
     },
     "execution_count": 8,
     "metadata": {},
     "output_type": "execute_result"
    }
   ],
   "source": [
    "from rake_nltk import Rake\n",
    "\n",
    "# Uses stopwords for english from NLTK, and all puntuation characters by\n",
    "# default\n",
    "r = Rake()\n",
    "dr_transcription = 'COUGH DRY 1.5 MONTHS CHEST PAIN ON COUGHING FEVER WT LOSS'\n",
    "# Extraction given the text.\n",
    "r.extract_keywords_from_text(dr_transcription)\n",
    "\n",
    "# Extraction given the list of strings where each string is a sentence.\n",
    "#r.extract_keywords_from_sentences('COUGH DRY 1.5 MONTHS CHEST PAIN ON COUGHING FEVER WT LOSS')\n",
    "\n",
    "# To get keyword phrases ranked highest to lowest.\n",
    "r.get_ranked_phrases()\n",
    "\n",
    "# To get keyword phrases ranked highest to lowest with scores.\n",
    "r.get_ranked_phrases_with_scores()"
   ]
  },
  {
   "cell_type": "code",
   "execution_count": 10,
   "metadata": {},
   "outputs": [],
   "source": [
    "import nltk\n",
    "word2count = {}\n",
    "dataset = 'COUGH DRY 1.5 MONTHS CHEST PAIN ON COUGHING FEVER WT LOSS'\n",
    "for data in dataset:\n",
    "    words = nltk.word_tokenize(data)\n",
    "    for word in words:\n",
    "        if word not in word2count.keys():\n",
    "            word2count[word] = 1\n",
    "        else:\n",
    "            word2count[word] += 1"
   ]
  },
  {
   "cell_type": "code",
   "execution_count": 11,
   "metadata": {},
   "outputs": [
    {
     "data": {
      "text/plain": [
       "{'C': 3,\n",
       " 'O': 5,\n",
       " 'U': 2,\n",
       " 'G': 3,\n",
       " 'H': 4,\n",
       " 'D': 1,\n",
       " 'R': 2,\n",
       " 'Y': 1,\n",
       " '1': 1,\n",
       " '.': 1,\n",
       " '5': 1,\n",
       " 'M': 1,\n",
       " 'N': 4,\n",
       " 'T': 3,\n",
       " 'S': 4,\n",
       " 'E': 3,\n",
       " 'P': 1,\n",
       " 'A': 1,\n",
       " 'I': 2,\n",
       " 'F': 1,\n",
       " 'V': 1,\n",
       " 'W': 1,\n",
       " 'L': 1}"
      ]
     },
     "execution_count": 11,
     "metadata": {},
     "output_type": "execute_result"
    }
   ],
   "source": [
    "word2count"
   ]
  },
  {
   "cell_type": "code",
   "execution_count": null,
   "metadata": {},
   "outputs": [],
   "source": [
    "#pip install pytextrank"
   ]
  }
 ],
 "metadata": {
  "kernelspec": {
   "display_name": "Python 3.9.12 ('base')",
   "language": "python",
   "name": "python3"
  },
  "language_info": {
   "codemirror_mode": {
    "name": "ipython",
    "version": 3
   },
   "file_extension": ".py",
   "mimetype": "text/x-python",
   "name": "python",
   "nbconvert_exporter": "python",
   "pygments_lexer": "ipython3",
   "version": "3.9.12"
  },
  "orig_nbformat": 4,
  "vscode": {
   "interpreter": {
    "hash": "ad2bdc8ecc057115af97d19610ffacc2b4e99fae6737bb82f5d7fb13d2f2c186"
   }
  }
 },
 "nbformat": 4,
 "nbformat_minor": 2
}
